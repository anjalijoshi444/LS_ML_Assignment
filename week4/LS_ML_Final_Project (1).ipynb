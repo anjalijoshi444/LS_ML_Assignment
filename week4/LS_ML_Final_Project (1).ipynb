{
 "cells": [
  {
   "cell_type": "code",
   "execution_count": 20,
   "id": "abc4e0d7-a620-4d5b-8784-ca89a3975498",
   "metadata": {},
   "outputs": [
    {
     "name": "stdout",
     "output_type": "stream",
     "text": [
      "Defaulting to user installation because normal site-packages is not writeable\n",
      "Collecting opencv-python\n",
      "  Downloading opencv_python-4.10.0.84-cp37-abi3-win_amd64.whl.metadata (20 kB)\n",
      "Requirement already satisfied: matplotlib in c:\\users\\anjal\\appdata\\roaming\\python\\python312\\site-packages (3.9.0)\n",
      "Requirement already satisfied: numpy>=1.21.2 in c:\\users\\anjal\\appdata\\roaming\\python\\python312\\site-packages (from opencv-python) (1.26.4)\n",
      "Requirement already satisfied: contourpy>=1.0.1 in c:\\users\\anjal\\appdata\\roaming\\python\\python312\\site-packages (from matplotlib) (1.2.1)\n",
      "Requirement already satisfied: cycler>=0.10 in c:\\users\\anjal\\appdata\\roaming\\python\\python312\\site-packages (from matplotlib) (0.12.1)\n",
      "Requirement already satisfied: fonttools>=4.22.0 in c:\\users\\anjal\\appdata\\roaming\\python\\python312\\site-packages (from matplotlib) (4.53.0)\n",
      "Requirement already satisfied: kiwisolver>=1.3.1 in c:\\users\\anjal\\appdata\\roaming\\python\\python312\\site-packages (from matplotlib) (1.4.5)\n",
      "Requirement already satisfied: packaging>=20.0 in c:\\users\\anjal\\appdata\\roaming\\python\\python312\\site-packages (from matplotlib) (24.0)\n",
      "Requirement already satisfied: pillow>=8 in c:\\users\\anjal\\appdata\\roaming\\python\\python312\\site-packages (from matplotlib) (10.2.0)\n",
      "Requirement already satisfied: pyparsing>=2.3.1 in c:\\users\\anjal\\appdata\\roaming\\python\\python312\\site-packages (from matplotlib) (3.1.2)\n",
      "Requirement already satisfied: python-dateutil>=2.7 in c:\\users\\anjal\\appdata\\roaming\\python\\python312\\site-packages (from matplotlib) (2.9.0.post0)\n",
      "Requirement already satisfied: six>=1.5 in c:\\users\\anjal\\appdata\\roaming\\python\\python312\\site-packages (from python-dateutil>=2.7->matplotlib) (1.16.0)\n",
      "Downloading opencv_python-4.10.0.84-cp37-abi3-win_amd64.whl (38.8 MB)\n",
      "   ---------------------------------------- 0.0/38.8 MB ? eta -:--:--\n",
      "   ---------------------------------------- 0.0/38.8 MB ? eta -:--:--\n",
      "   ---------------------------------------- 0.3/38.8 MB ? eta -:--:--\n",
      "   ---------------------------------------- 0.3/38.8 MB ? eta -:--:--\n",
      "    --------------------------------------- 0.5/38.8 MB 840.2 kB/s eta 0:00:46\n",
      "    --------------------------------------- 0.8/38.8 MB 860.9 kB/s eta 0:00:45\n",
      "   - -------------------------------------- 1.0/38.8 MB 853.0 kB/s eta 0:00:45\n",
      "   - -------------------------------------- 1.0/38.8 MB 853.0 kB/s eta 0:00:45\n",
      "   - -------------------------------------- 1.3/38.8 MB 871.6 kB/s eta 0:00:44\n",
      "   - -------------------------------------- 1.6/38.8 MB 883.2 kB/s eta 0:00:43\n",
      "   - -------------------------------------- 1.8/38.8 MB 898.8 kB/s eta 0:00:42\n",
      "   - -------------------------------------- 1.8/38.8 MB 898.8 kB/s eta 0:00:42\n",
      "   -- ------------------------------------- 2.1/38.8 MB 876.7 kB/s eta 0:00:42\n",
      "   -- ------------------------------------- 2.1/38.8 MB 876.7 kB/s eta 0:00:42\n",
      "   -- ------------------------------------- 2.4/38.8 MB 860.5 kB/s eta 0:00:43\n",
      "   -- ------------------------------------- 2.6/38.8 MB 868.0 kB/s eta 0:00:42\n",
      "   -- ------------------------------------- 2.9/38.8 MB 883.2 kB/s eta 0:00:41\n",
      "   --- ------------------------------------ 3.1/38.8 MB 900.3 kB/s eta 0:00:40\n",
      "   --- ------------------------------------ 3.4/38.8 MB 911.0 kB/s eta 0:00:39\n",
      "   --- ------------------------------------ 3.4/38.8 MB 911.0 kB/s eta 0:00:39\n",
      "   --- ------------------------------------ 3.7/38.8 MB 920.3 kB/s eta 0:00:39\n",
      "   ---- ----------------------------------- 3.9/38.8 MB 932.2 kB/s eta 0:00:38\n",
      "   ---- ----------------------------------- 4.2/38.8 MB 935.6 kB/s eta 0:00:38\n",
      "   ---- ----------------------------------- 4.5/38.8 MB 929.0 kB/s eta 0:00:38\n",
      "   ---- ----------------------------------- 4.5/38.8 MB 929.0 kB/s eta 0:00:38\n",
      "   ---- ----------------------------------- 4.7/38.8 MB 935.2 kB/s eta 0:00:37\n",
      "   ----- ---------------------------------- 5.0/38.8 MB 920.7 kB/s eta 0:00:37\n",
      "   ----- ---------------------------------- 5.0/38.8 MB 920.7 kB/s eta 0:00:37\n",
      "   ----- ---------------------------------- 5.2/38.8 MB 918.6 kB/s eta 0:00:37\n",
      "   ----- ---------------------------------- 5.5/38.8 MB 914.3 kB/s eta 0:00:37\n",
      "   ----- ---------------------------------- 5.5/38.8 MB 914.3 kB/s eta 0:00:37\n",
      "   ----- ---------------------------------- 5.8/38.8 MB 915.2 kB/s eta 0:00:37\n",
      "   ------ --------------------------------- 6.0/38.8 MB 920.5 kB/s eta 0:00:36\n",
      "   ------ --------------------------------- 6.3/38.8 MB 925.5 kB/s eta 0:00:36\n",
      "   ------ --------------------------------- 6.6/38.8 MB 923.6 kB/s eta 0:00:35\n",
      "   ------ --------------------------------- 6.6/38.8 MB 923.6 kB/s eta 0:00:35\n",
      "   ------- -------------------------------- 6.8/38.8 MB 925.9 kB/s eta 0:00:35\n",
      "   ------- -------------------------------- 7.1/38.8 MB 924.2 kB/s eta 0:00:35\n",
      "   ------- -------------------------------- 7.3/38.8 MB 924.5 kB/s eta 0:00:35\n",
      "   ------- -------------------------------- 7.3/38.8 MB 924.5 kB/s eta 0:00:35\n",
      "   ------- -------------------------------- 7.3/38.8 MB 924.5 kB/s eta 0:00:35\n",
      "   ------- -------------------------------- 7.6/38.8 MB 903.4 kB/s eta 0:00:35\n",
      "   -------- ------------------------------- 7.9/38.8 MB 901.1 kB/s eta 0:00:35\n",
      "   -------- ------------------------------- 7.9/38.8 MB 901.1 kB/s eta 0:00:35\n",
      "   -------- ------------------------------- 8.1/38.8 MB 894.0 kB/s eta 0:00:35\n",
      "   -------- ------------------------------- 8.4/38.8 MB 902.9 kB/s eta 0:00:34\n",
      "   -------- ------------------------------- 8.7/38.8 MB 908.4 kB/s eta 0:00:34\n",
      "   --------- ------------------------------ 8.9/38.8 MB 912.1 kB/s eta 0:00:33\n",
      "   --------- ------------------------------ 9.2/38.8 MB 915.6 kB/s eta 0:00:33\n",
      "   --------- ------------------------------ 9.2/38.8 MB 915.6 kB/s eta 0:00:33\n",
      "   --------- ------------------------------ 9.4/38.8 MB 916.1 kB/s eta 0:00:33\n",
      "   --------- ------------------------------ 9.4/38.8 MB 916.1 kB/s eta 0:00:33\n",
      "   --------- ------------------------------ 9.7/38.8 MB 900.2 kB/s eta 0:00:33\n",
      "   --------- ------------------------------ 9.7/38.8 MB 900.2 kB/s eta 0:00:33\n",
      "   ---------- ----------------------------- 10.0/38.8 MB 885.5 kB/s eta 0:00:33\n",
      "   ---------- ----------------------------- 10.2/38.8 MB 885.5 kB/s eta 0:00:33\n",
      "   ---------- ----------------------------- 10.2/38.8 MB 885.5 kB/s eta 0:00:33\n",
      "   ---------- ----------------------------- 10.5/38.8 MB 886.6 kB/s eta 0:00:32\n",
      "   ----------- ---------------------------- 10.7/38.8 MB 887.7 kB/s eta 0:00:32\n",
      "   ----------- ---------------------------- 10.7/38.8 MB 887.7 kB/s eta 0:00:32\n",
      "   ----------- ---------------------------- 11.0/38.8 MB 880.8 kB/s eta 0:00:32\n",
      "   ----------- ---------------------------- 11.3/38.8 MB 884.1 kB/s eta 0:00:32\n",
      "   ----------- ---------------------------- 11.3/38.8 MB 884.1 kB/s eta 0:00:32\n",
      "   ----------- ---------------------------- 11.5/38.8 MB 884.1 kB/s eta 0:00:31\n",
      "   ------------ --------------------------- 11.8/38.8 MB 877.8 kB/s eta 0:00:31\n",
      "   ------------ --------------------------- 11.8/38.8 MB 877.8 kB/s eta 0:00:31\n",
      "   ------------ --------------------------- 11.8/38.8 MB 877.8 kB/s eta 0:00:31\n",
      "   ------------ --------------------------- 12.1/38.8 MB 859.9 kB/s eta 0:00:32\n",
      "   ------------ --------------------------- 12.1/38.8 MB 859.9 kB/s eta 0:00:32\n",
      "   ------------ --------------------------- 12.3/38.8 MB 850.9 kB/s eta 0:00:32\n",
      "   ------------ --------------------------- 12.3/38.8 MB 850.9 kB/s eta 0:00:32\n",
      "   ------------ --------------------------- 12.6/38.8 MB 843.4 kB/s eta 0:00:32\n",
      "   ------------ --------------------------- 12.6/38.8 MB 843.4 kB/s eta 0:00:32\n",
      "   ------------ --------------------------- 12.6/38.8 MB 843.4 kB/s eta 0:00:32\n",
      "   ------------- -------------------------- 12.8/38.8 MB 834.5 kB/s eta 0:00:32\n",
      "   ------------- -------------------------- 12.8/38.8 MB 834.5 kB/s eta 0:00:32\n",
      "   ------------- -------------------------- 13.1/38.8 MB 829.6 kB/s eta 0:00:32\n",
      "   ------------- -------------------------- 13.1/38.8 MB 829.6 kB/s eta 0:00:32\n",
      "   ------------- -------------------------- 13.4/38.8 MB 824.9 kB/s eta 0:00:31\n",
      "   -------------- ------------------------- 13.6/38.8 MB 821.2 kB/s eta 0:00:31\n",
      "   -------------- ------------------------- 13.6/38.8 MB 821.2 kB/s eta 0:00:31\n",
      "   -------------- ------------------------- 13.6/38.8 MB 821.2 kB/s eta 0:00:31\n",
      "   -------------- ------------------------- 13.9/38.8 MB 806.3 kB/s eta 0:00:31\n",
      "   -------------- ------------------------- 13.9/38.8 MB 806.3 kB/s eta 0:00:31\n",
      "   -------------- ------------------------- 14.2/38.8 MB 806.9 kB/s eta 0:00:31\n",
      "   -------------- ------------------------- 14.2/38.8 MB 806.9 kB/s eta 0:00:31\n",
      "   -------------- ------------------------- 14.4/38.8 MB 806.0 kB/s eta 0:00:31\n",
      "   --------------- ------------------------ 14.7/38.8 MB 805.9 kB/s eta 0:00:30\n",
      "   --------------- ------------------------ 14.9/38.8 MB 807.8 kB/s eta 0:00:30\n",
      "   --------------- ------------------------ 14.9/38.8 MB 807.8 kB/s eta 0:00:30\n",
      "   --------------- ------------------------ 15.2/38.8 MB 810.4 kB/s eta 0:00:30\n",
      "   --------------- ------------------------ 15.5/38.8 MB 813.6 kB/s eta 0:00:29\n",
      "   ---------------- ----------------------- 15.7/38.8 MB 816.0 kB/s eta 0:00:29\n",
      "   ---------------- ----------------------- 16.0/38.8 MB 819.8 kB/s eta 0:00:28\n",
      "   ---------------- ----------------------- 16.0/38.8 MB 819.8 kB/s eta 0:00:28\n",
      "   ---------------- ----------------------- 16.3/38.8 MB 820.7 kB/s eta 0:00:28\n",
      "   ----------------- ---------------------- 16.5/38.8 MB 822.3 kB/s eta 0:00:28\n",
      "   ----------------- ---------------------- 16.5/38.8 MB 822.3 kB/s eta 0:00:28\n",
      "   ----------------- ---------------------- 16.8/38.8 MB 823.8 kB/s eta 0:00:27\n",
      "   ----------------- ---------------------- 17.0/38.8 MB 826.0 kB/s eta 0:00:27\n",
      "   ----------------- ---------------------- 17.3/38.8 MB 828.7 kB/s eta 0:00:26\n",
      "   ------------------ --------------------- 17.6/38.8 MB 829.5 kB/s eta 0:00:26\n",
      "   ------------------ --------------------- 17.6/38.8 MB 829.5 kB/s eta 0:00:26\n",
      "   ------------------ --------------------- 17.8/38.8 MB 832.0 kB/s eta 0:00:26\n",
      "   ------------------ --------------------- 18.1/38.8 MB 832.1 kB/s eta 0:00:25\n",
      "   ------------------ --------------------- 18.1/38.8 MB 832.1 kB/s eta 0:00:25\n",
      "   ------------------ --------------------- 18.4/38.8 MB 831.1 kB/s eta 0:00:25\n",
      "   ------------------- -------------------- 18.6/38.8 MB 833.5 kB/s eta 0:00:25\n",
      "   ------------------- -------------------- 18.9/38.8 MB 835.9 kB/s eta 0:00:24\n",
      "   ------------------- -------------------- 19.1/38.8 MB 838.3 kB/s eta 0:00:24\n",
      "   ------------------- -------------------- 19.1/38.8 MB 838.3 kB/s eta 0:00:24\n",
      "   ------------------- -------------------- 19.4/38.8 MB 837.7 kB/s eta 0:00:24\n",
      "   ------------------- -------------------- 19.4/38.8 MB 837.7 kB/s eta 0:00:24\n",
      "   -------------------- ------------------- 19.7/38.8 MB 836.0 kB/s eta 0:00:23\n",
      "   -------------------- ------------------- 19.7/38.8 MB 836.0 kB/s eta 0:00:23\n",
      "   -------------------- ------------------- 19.9/38.8 MB 832.2 kB/s eta 0:00:23\n",
      "   -------------------- ------------------- 19.9/38.8 MB 832.2 kB/s eta 0:00:23\n",
      "   -------------------- ------------------- 19.9/38.8 MB 832.2 kB/s eta 0:00:23\n",
      "   -------------------- ------------------- 20.2/38.8 MB 821.6 kB/s eta 0:00:23\n",
      "   -------------------- ------------------- 20.2/38.8 MB 821.6 kB/s eta 0:00:23\n",
      "   --------------------- ------------------ 20.4/38.8 MB 815.6 kB/s eta 0:00:23\n",
      "   --------------------- ------------------ 20.7/38.8 MB 816.9 kB/s eta 0:00:23\n",
      "   --------------------- ------------------ 20.7/38.8 MB 816.9 kB/s eta 0:00:23\n",
      "   --------------------- ------------------ 21.0/38.8 MB 815.1 kB/s eta 0:00:22\n",
      "   --------------------- ------------------ 21.0/38.8 MB 815.1 kB/s eta 0:00:22\n",
      "   --------------------- ------------------ 21.0/38.8 MB 815.1 kB/s eta 0:00:22\n",
      "   --------------------- ------------------ 21.2/38.8 MB 809.0 kB/s eta 0:00:22\n",
      "   --------------------- ------------------ 21.2/38.8 MB 809.0 kB/s eta 0:00:22\n",
      "   ---------------------- ----------------- 21.5/38.8 MB 805.6 kB/s eta 0:00:22\n",
      "   ---------------------- ----------------- 21.5/38.8 MB 805.6 kB/s eta 0:00:22\n",
      "   ---------------------- ----------------- 21.8/38.8 MB 801.7 kB/s eta 0:00:22\n",
      "   ---------------------- ----------------- 22.0/38.8 MB 803.1 kB/s eta 0:00:21\n",
      "   ---------------------- ----------------- 22.0/38.8 MB 803.1 kB/s eta 0:00:21\n",
      "   ---------------------- ----------------- 22.3/38.8 MB 801.2 kB/s eta 0:00:21\n",
      "   ---------------------- ----------------- 22.3/38.8 MB 801.2 kB/s eta 0:00:21\n",
      "   ---------------------- ----------------- 22.3/38.8 MB 801.2 kB/s eta 0:00:21\n",
      "   ----------------------- ---------------- 22.5/38.8 MB 794.5 kB/s eta 0:00:21\n",
      "   ----------------------- ---------------- 22.5/38.8 MB 794.5 kB/s eta 0:00:21\n",
      "   ----------------------- ---------------- 22.8/38.8 MB 793.2 kB/s eta 0:00:21\n",
      "   ----------------------- ---------------- 23.1/38.8 MB 794.2 kB/s eta 0:00:20\n",
      "   ----------------------- ---------------- 23.1/38.8 MB 794.2 kB/s eta 0:00:20\n",
      "   ------------------------ --------------- 23.3/38.8 MB 793.8 kB/s eta 0:00:20\n",
      "   ------------------------ --------------- 23.6/38.8 MB 793.4 kB/s eta 0:00:20\n",
      "   ------------------------ --------------- 23.6/38.8 MB 793.4 kB/s eta 0:00:20\n",
      "   ------------------------ --------------- 23.9/38.8 MB 792.6 kB/s eta 0:00:19\n",
      "   ------------------------ --------------- 23.9/38.8 MB 792.6 kB/s eta 0:00:19\n",
      "   ------------------------ --------------- 24.1/38.8 MB 791.4 kB/s eta 0:00:19\n",
      "   ------------------------- -------------- 24.4/38.8 MB 792.6 kB/s eta 0:00:19\n",
      "   ------------------------- -------------- 24.6/38.8 MB 793.0 kB/s eta 0:00:18\n",
      "   ------------------------- -------------- 24.9/38.8 MB 796.4 kB/s eta 0:00:18\n",
      "   ------------------------- -------------- 24.9/38.8 MB 796.4 kB/s eta 0:00:18\n",
      "   ------------------------- -------------- 25.2/38.8 MB 796.4 kB/s eta 0:00:18\n",
      "   -------------------------- ------------- 25.4/38.8 MB 795.2 kB/s eta 0:00:17\n",
      "   -------------------------- ------------- 25.4/38.8 MB 795.2 kB/s eta 0:00:17\n",
      "   -------------------------- ------------- 25.7/38.8 MB 794.3 kB/s eta 0:00:17\n",
      "   -------------------------- ------------- 26.0/38.8 MB 793.4 kB/s eta 0:00:17\n",
      "   -------------------------- ------------- 26.0/38.8 MB 793.4 kB/s eta 0:00:17\n",
      "   -------------------------- ------------- 26.2/38.8 MB 789.7 kB/s eta 0:00:16\n",
      "   -------------------------- ------------- 26.2/38.8 MB 789.7 kB/s eta 0:00:16\n",
      "   --------------------------- ------------ 26.5/38.8 MB 789.3 kB/s eta 0:00:16\n",
      "   --------------------------- ------------ 26.5/38.8 MB 789.3 kB/s eta 0:00:16\n",
      "   --------------------------- ------------ 26.5/38.8 MB 789.3 kB/s eta 0:00:16\n",
      "   --------------------------- ------------ 26.7/38.8 MB 774.2 kB/s eta 0:00:16\n",
      "   --------------------------- ------------ 26.7/38.8 MB 774.2 kB/s eta 0:00:16\n",
      "   --------------------------- ------------ 26.7/38.8 MB 774.2 kB/s eta 0:00:16\n",
      "   --------------------------- ------------ 26.7/38.8 MB 774.2 kB/s eta 0:00:16\n",
      "   --------------------------- ------------ 27.0/38.8 MB 757.0 kB/s eta 0:00:16\n",
      "   --------------------------- ------------ 27.0/38.8 MB 757.0 kB/s eta 0:00:16\n",
      "   --------------------------- ------------ 27.0/38.8 MB 757.0 kB/s eta 0:00:16\n",
      "   ---------------------------- ----------- 27.3/38.8 MB 743.5 kB/s eta 0:00:16\n",
      "   ---------------------------- ----------- 27.3/38.8 MB 743.5 kB/s eta 0:00:16\n",
      "   ---------------------------- ----------- 27.5/38.8 MB 738.6 kB/s eta 0:00:16\n",
      "   ---------------------------- ----------- 27.5/38.8 MB 738.6 kB/s eta 0:00:16\n",
      "   ---------------------------- ----------- 27.8/38.8 MB 739.0 kB/s eta 0:00:15\n",
      "   ---------------------------- ----------- 28.0/38.8 MB 737.1 kB/s eta 0:00:15\n",
      "   ----------------------------- ---------- 28.3/38.8 MB 737.4 kB/s eta 0:00:15\n",
      "   ----------------------------- ---------- 28.3/38.8 MB 737.4 kB/s eta 0:00:15\n",
      "   ----------------------------- ---------- 28.6/38.8 MB 739.0 kB/s eta 0:00:14\n",
      "   ----------------------------- ---------- 28.6/38.8 MB 739.0 kB/s eta 0:00:14\n",
      "   ----------------------------- ---------- 28.8/38.8 MB 731.4 kB/s eta 0:00:14\n",
      "   ----------------------------- ---------- 29.1/38.8 MB 731.0 kB/s eta 0:00:14\n",
      "   ----------------------------- ---------- 29.1/38.8 MB 731.0 kB/s eta 0:00:14\n",
      "   ------------------------------ --------- 29.4/38.8 MB 736.4 kB/s eta 0:00:13\n",
      "   ------------------------------ --------- 29.6/38.8 MB 737.1 kB/s eta 0:00:13\n",
      "   ------------------------------ --------- 29.9/38.8 MB 739.4 kB/s eta 0:00:13\n",
      "   ------------------------------ --------- 29.9/38.8 MB 739.4 kB/s eta 0:00:13\n",
      "   ------------------------------- -------- 30.1/38.8 MB 741.0 kB/s eta 0:00:12\n",
      "   ------------------------------- -------- 30.4/38.8 MB 742.7 kB/s eta 0:00:12\n",
      "   ------------------------------- -------- 30.4/38.8 MB 742.7 kB/s eta 0:00:12\n",
      "   ------------------------------- -------- 30.7/38.8 MB 737.1 kB/s eta 0:00:12\n",
      "   ------------------------------- -------- 30.9/38.8 MB 735.5 kB/s eta 0:00:11\n",
      "   -------------------------------- ------- 31.2/38.8 MB 737.5 kB/s eta 0:00:11\n",
      "   -------------------------------- ------- 31.5/38.8 MB 737.4 kB/s eta 0:00:11\n",
      "   -------------------------------- ------- 31.7/38.8 MB 744.1 kB/s eta 0:00:10\n",
      "   -------------------------------- ------- 31.7/38.8 MB 744.1 kB/s eta 0:00:10\n",
      "   -------------------------------- ------- 32.0/38.8 MB 745.4 kB/s eta 0:00:10\n",
      "   -------------------------------- ------- 32.0/38.8 MB 745.4 kB/s eta 0:00:10\n",
      "   --------------------------------- ------ 32.2/38.8 MB 745.5 kB/s eta 0:00:09\n",
      "   --------------------------------- ------ 32.5/38.8 MB 747.8 kB/s eta 0:00:09\n",
      "   --------------------------------- ------ 32.8/38.8 MB 747.0 kB/s eta 0:00:09\n",
      "   ---------------------------------- ----- 33.0/38.8 MB 747.8 kB/s eta 0:00:08\n",
      "   ---------------------------------- ----- 33.0/38.8 MB 747.8 kB/s eta 0:00:08\n",
      "   ---------------------------------- ----- 33.3/38.8 MB 750.6 kB/s eta 0:00:08\n",
      "   ---------------------------------- ----- 33.6/38.8 MB 752.7 kB/s eta 0:00:08\n",
      "   ---------------------------------- ----- 33.8/38.8 MB 749.8 kB/s eta 0:00:07\n",
      "   ---------------------------------- ----- 33.8/38.8 MB 749.8 kB/s eta 0:00:07\n",
      "   ----------------------------------- ---- 34.1/38.8 MB 752.1 kB/s eta 0:00:07\n",
      "   ----------------------------------- ---- 34.3/38.8 MB 755.0 kB/s eta 0:00:06\n",
      "   ----------------------------------- ---- 34.3/38.8 MB 755.0 kB/s eta 0:00:06\n",
      "   ----------------------------------- ---- 34.6/38.8 MB 756.6 kB/s eta 0:00:06\n",
      "   ----------------------------------- ---- 34.6/38.8 MB 756.6 kB/s eta 0:00:06\n",
      "   ----------------------------------- ---- 34.6/38.8 MB 756.6 kB/s eta 0:00:06\n",
      "   ----------------------------------- ---- 34.9/38.8 MB 755.8 kB/s eta 0:00:06\n",
      "   ----------------------------------- ---- 34.9/38.8 MB 755.8 kB/s eta 0:00:06\n",
      "   ------------------------------------ --- 35.1/38.8 MB 753.0 kB/s eta 0:00:05\n",
      "   ------------------------------------ --- 35.1/38.8 MB 753.0 kB/s eta 0:00:05\n",
      "   ------------------------------------ --- 35.4/38.8 MB 755.4 kB/s eta 0:00:05\n",
      "   ------------------------------------ --- 35.4/38.8 MB 755.4 kB/s eta 0:00:05\n",
      "   ------------------------------------ --- 35.7/38.8 MB 754.6 kB/s eta 0:00:05\n",
      "   ------------------------------------ --- 35.7/38.8 MB 754.6 kB/s eta 0:00:05\n",
      "   ------------------------------------ --- 35.9/38.8 MB 755.8 kB/s eta 0:00:04\n",
      "   ------------------------------------- -- 36.2/38.8 MB 759.8 kB/s eta 0:00:04\n",
      "   ------------------------------------- -- 36.4/38.8 MB 762.2 kB/s eta 0:00:04\n",
      "   ------------------------------------- -- 36.7/38.8 MB 771.9 kB/s eta 0:00:03\n",
      "   ------------------------------------- -- 36.7/38.8 MB 771.9 kB/s eta 0:00:03\n",
      "   -------------------------------------- - 37.0/38.8 MB 773.0 kB/s eta 0:00:03\n",
      "   -------------------------------------- - 37.2/38.8 MB 772.2 kB/s eta 0:00:03\n",
      "   -------------------------------------- - 37.2/38.8 MB 772.2 kB/s eta 0:00:03\n",
      "   -------------------------------------- - 37.5/38.8 MB 774.6 kB/s eta 0:00:02\n",
      "   -------------------------------------- - 37.7/38.8 MB 777.0 kB/s eta 0:00:02\n",
      "   ---------------------------------------  38.0/38.8 MB 778.1 kB/s eta 0:00:02\n",
      "   ---------------------------------------  38.3/38.8 MB 779.3 kB/s eta 0:00:01\n",
      "   ---------------------------------------  38.3/38.8 MB 779.3 kB/s eta 0:00:01\n",
      "   ---------------------------------------  38.5/38.8 MB 777.7 kB/s eta 0:00:01\n",
      "   ---------------------------------------  38.8/38.8 MB 774.2 kB/s eta 0:00:01\n",
      "   ---------------------------------------- 38.8/38.8 MB 771.3 kB/s eta 0:00:00\n",
      "Installing collected packages: opencv-python\n",
      "Successfully installed opencv-python-4.10.0.84\n"
     ]
    },
    {
     "name": "stderr",
     "output_type": "stream",
     "text": [
      "WARNING: Ignoring invalid distribution ~ip (C:\\Users\\anjal\\AppData\\Roaming\\Python\\Python312\\site-packages)\n",
      "WARNING: Ignoring invalid distribution ~ip (C:\\Users\\anjal\\AppData\\Roaming\\Python\\Python312\\site-packages)\n",
      "WARNING: Ignoring invalid distribution ~ip (C:\\Users\\anjal\\AppData\\Roaming\\Python\\Python312\\site-packages)\n"
     ]
    }
   ],
   "source": [
    "!pip install opencv-python matplotlib"
   ]
  },
  {
   "cell_type": "code",
   "execution_count": 6,
   "id": "bb9cbdc0-c7b1-47f1-b1fc-70d845c8aad5",
   "metadata": {},
   "outputs": [],
   "source": [
    "import cv2 \n",
    "import os\n",
    "import random\n",
    "import numpy as np\n",
    "from matplotlib import pyplot as plt"
   ]
  },
  {
   "cell_type": "code",
   "execution_count": 7,
   "id": "cb495e2a-d2c5-4485-99c2-d1012ecdb1ee",
   "metadata": {},
   "outputs": [],
   "source": [
    "from tensorflow.keras.models import Model\n",
    "from tensorflow.keras.layers import Layer, Conv2D, MaxPooling2D, Input, Flatten,Dense\n",
    "import tensorflow as tf\n",
    "import uuid\n",
    "from tensorflow.keras.metrics import Precision,Recall"
   ]
  },
  {
   "cell_type": "code",
   "execution_count": 8,
   "id": "883b8a94-7b11-453f-b9c6-8120bd7a2c23",
   "metadata": {},
   "outputs": [],
   "source": [
    "#Avoid Out of Memory error Gpu\n",
    "# gpus=tf.config.experimental.list_physical_devices('GPU')\n",
    "# for gpu in gpus:\n",
    "    # tf.config.experimental.set_memory_growth(gpu,True)"
   ]
  },
  {
   "cell_type": "code",
   "execution_count": 9,
   "id": "bb3a4618-a454-4406-8a40-504b6590eed0",
   "metadata": {},
   "outputs": [],
   "source": [
    "POS_PATH=os.path.join('data','positive')\n",
    "NEG_PATH=os.path.join('data','negative')\n",
    "ANC_PATH=os.path.join('data','anchor')"
   ]
  },
  {
   "cell_type": "code",
   "execution_count": 5,
   "id": "7c930375-ca84-42d5-8e14-d851638c9c87",
   "metadata": {},
   "outputs": [
    {
     "ename": "FileExistsError",
     "evalue": "[WinError 183] Cannot create a file when that file already exists: 'data\\\\positive'",
     "output_type": "error",
     "traceback": [
      "\u001b[1;31m---------------------------------------------------------------------------\u001b[0m",
      "\u001b[1;31mFileExistsError\u001b[0m                           Traceback (most recent call last)",
      "Cell \u001b[1;32mIn[5], line 2\u001b[0m\n\u001b[0;32m      1\u001b[0m \u001b[38;5;66;03m#directories\u001b[39;00m\n\u001b[1;32m----> 2\u001b[0m \u001b[43mos\u001b[49m\u001b[38;5;241;43m.\u001b[39;49m\u001b[43mmakedirs\u001b[49m\u001b[43m(\u001b[49m\u001b[43mPOS_PATH\u001b[49m\u001b[43m)\u001b[49m\n\u001b[0;32m      3\u001b[0m os\u001b[38;5;241m.\u001b[39mmakedirs(NEG_PATH)\n\u001b[0;32m      4\u001b[0m os\u001b[38;5;241m.\u001b[39mmakedirs(ANC_PATH)\n",
      "File \u001b[1;32m<frozen os>:225\u001b[0m, in \u001b[0;36mmakedirs\u001b[1;34m(name, mode, exist_ok)\u001b[0m\n",
      "\u001b[1;31mFileExistsError\u001b[0m: [WinError 183] Cannot create a file when that file already exists: 'data\\\\positive'"
     ]
    }
   ],
   "source": [
    "#directories\n",
    "os.makedirs(POS_PATH)\n",
    "os.makedirs(NEG_PATH)\n",
    "os.makedirs(ANC_PATH)"
   ]
  },
  {
   "cell_type": "code",
   "execution_count": 6,
   "id": "72d8794e-e6fb-4afd-8054-f0a57f9cc0f6",
   "metadata": {},
   "outputs": [],
   "source": [
    "!tar -xf lfw.tgz"
   ]
  },
  {
   "cell_type": "code",
   "execution_count": 10,
   "id": "58afbab2-8853-4db8-9d45-876e4a3bfbb2",
   "metadata": {},
   "outputs": [],
   "source": [
    "for directory in os.listdir('lfw'):\n",
    "    for file in os.listdir(os.path.join('lfw',directory)):\n",
    "        EX_PATH=os.path.join('lfw',directory,file)\n",
    "        NEW_PATH=os.path.join(NEG_PATH,file)\n",
    "        os.replace(EX_PATH,NEW_PATH)"
   ]
  },
  {
   "cell_type": "code",
   "execution_count": 11,
   "id": "3778df83-6f44-4f66-a98b-19f1a178bc10",
   "metadata": {},
   "outputs": [
    {
     "data": {
      "text/plain": [
       "'data\\\\anchor\\\\4b49b60d-4f73-11ef-81da-387a0e176249.jpg'"
      ]
     },
     "execution_count": 11,
     "metadata": {},
     "output_type": "execute_result"
    }
   ],
   "source": [
    "os.path.join(ANC_PATH, '{}.jpg'.format(uuid.uuid1()))"
   ]
  },
  {
   "cell_type": "code",
   "execution_count": 12,
   "id": "e63c7d30-ac68-4906-a3f9-6174099811a1",
   "metadata": {},
   "outputs": [],
   "source": [
    "cap= cv2.VideoCapture(0)\n",
    "while cap.isOpened():\n",
    "    ret,frame=cap.read()\n",
    "    frame[120:120+250,200:200+250,:]\n",
    "\n",
    "    if cv2.waitKey(1) & 0XFF == ord('a'):\n",
    "        imgname=os.path.join(ANC_PATH, '{}.jpg'.format(uuid.uuid1()))\n",
    "        cv2.imwrite(imgname,frame)\n",
    "    if cv2.waitKey(1) & 0XFF == ord('p'):\n",
    "        imgname=os.path.join(POS_PATH, '{}.jpg'.format(uuid.uuid1()))\n",
    "        cv2.imwrite(imgname,frame)\n",
    "    cv2.imshow('Image Collection',frame)\n",
    "    if cv2.waitKey(1) & 0XFF == ord('q'):\n",
    "        break\n",
    "cap.release()\n",
    "cv2.destroyAllWindows()"
   ]
  },
  {
   "cell_type": "code",
   "execution_count": 13,
   "id": "cf696ccc-c9f6-45ef-90fe-66ea1bce3cc6",
   "metadata": {},
   "outputs": [],
   "source": [
    "anchor = tf.data.Dataset.list_files(rf'{ANC_PATH}\\*.jpg').take(300)\n",
    "positive = tf.data.Dataset.list_files(rf'{POS_PATH}\\*.jpg').take(300)\n",
    "negative = tf.data.Dataset.list_files(rf'{NEG_PATH}\\*.jpg').take(300)"
   ]
  },
  {
   "cell_type": "code",
   "execution_count": 14,
   "id": "2e3d4403-d8d3-4c40-ab48-d53f1693d3f8",
   "metadata": {},
   "outputs": [],
   "source": [
    "dir_test=anchor.as_numpy_iterator()"
   ]
  },
  {
   "cell_type": "code",
   "execution_count": 15,
   "id": "7df1edb0-08c5-48ee-af6f-da716b9d3feb",
   "metadata": {},
   "outputs": [
    {
     "data": {
      "text/plain": [
       "b'data\\\\anchor\\\\1df2bf1b-4f48-11ef-9881-387a0e176249.jpg'"
      ]
     },
     "execution_count": 15,
     "metadata": {},
     "output_type": "execute_result"
    }
   ],
   "source": [
    "dir_test.next()"
   ]
  },
  {
   "cell_type": "code",
   "execution_count": 16,
   "id": "9ee79e91-6d3d-4773-95bf-90592ed85fa2",
   "metadata": {},
   "outputs": [],
   "source": [
    "def preprocess(file_path):\n",
    "    # Ensure file_path is a string\n",
    "    file_path = tf.strings.as_string(file_path)\n",
    "    \n",
    "    byte_img = tf.io.read_file(file_path)\n",
    "    img = tf.image.decode_jpeg(byte_img, channels=3)\n",
    "    img = tf.image.resize(img, [100, 100])\n",
    "    img = img / 255.0  # Normalize to [0, 1]\n",
    "    \n",
    "    return img"
   ]
  },
  {
   "cell_type": "code",
   "execution_count": 17,
   "id": "c305738d-220e-44fb-a18c-4cad7a6524d3",
   "metadata": {},
   "outputs": [],
   "source": [
    "img = preprocess('data\\\\anchor\\\\0ec62723-4f47-11ef-92c2-387a0e176249.jpg')"
   ]
  },
  {
   "cell_type": "code",
   "execution_count": 18,
   "id": "3803f665-07cd-445a-bf39-a4e3e2f6a6ab",
   "metadata": {},
   "outputs": [],
   "source": [
    "positives=tf.data.Dataset.zip((anchor,positive,tf.data.Dataset.from_tensor_slices(tf.ones(len(anchor)))))\n",
    "negatives=tf.data.Dataset.zip((anchor,negative,tf.data.Dataset.from_tensor_slices(tf.zeros(len(anchor)))))\n",
    "data=positives.concatenate(negatives)"
   ]
  },
  {
   "cell_type": "code",
   "execution_count": 19,
   "id": "0a441eee-8896-420a-963f-245b9600f3e5",
   "metadata": {},
   "outputs": [],
   "source": [
    "samples=data.as_numpy_iterator()"
   ]
  },
  {
   "cell_type": "code",
   "execution_count": 20,
   "id": "1cc2e8d4-8a5b-4411-9d8c-106608a3b477",
   "metadata": {},
   "outputs": [],
   "source": [
    "example=samples.next()"
   ]
  },
  {
   "cell_type": "code",
   "execution_count": 21,
   "id": "412aa013-7ab4-43d2-9e2f-157bb88321a0",
   "metadata": {},
   "outputs": [],
   "source": [
    "def preprocess_twin(input_img, validation_img, label):\n",
    "    return (preprocess(input_img), preprocess(validation_img), label)\n",
    "# def preprocess_twin(input_img, validation_img, label):\n",
    "#     input_img = preprocess(input_img)\n",
    "#     validation_img = preprocess(validation_img)\n",
    "#     return input_img, validation_img, label"
   ]
  },
  {
   "cell_type": "code",
   "execution_count": 218,
   "id": "2eb57bd7-e38d-4535-aee2-d5f47ebb1a60",
   "metadata": {},
   "outputs": [],
   "source": [
    "res = preprocess_twin(*example)"
   ]
  },
  {
   "cell_type": "code",
   "execution_count": 219,
   "id": "78d61cf3-b4e5-471c-aad7-28f644a5984a",
   "metadata": {},
   "outputs": [
    {
     "data": {
      "text/plain": [
       "<matplotlib.image.AxesImage at 0x20d3bc985c0>"
      ]
     },
     "execution_count": 219,
     "metadata": {},
     "output_type": "execute_result"
    },
    {
     "data": {
      "image/png": "[encoded data removed]",
      "text/plain": [
       "<Figure size 640x480 with 1 Axes>"
      ]
     },
     "metadata": {},
     "output_type": "display_data"
    }
   ],
   "source": [
    "plt.imshow(res[1])"
   ]
  },
  {
   "cell_type": "code",
   "execution_count": 220,
   "id": "a9591967-bce4-4250-84d4-e2fab0790d8c",
   "metadata": {},
   "outputs": [
    {
     "data": {
      "text/plain": [
       "1.0"
      ]
     },
     "execution_count": 220,
     "metadata": {},
     "output_type": "execute_result"
    }
   ],
   "source": [
    "res[2]"
   ]
  },
  {
   "cell_type": "code",
   "execution_count": 22,
   "id": "e15242e9-5087-40f5-954d-b652ae43b50c",
   "metadata": {},
   "outputs": [],
   "source": [
    "data = data.map(preprocess_twin)\n",
    "data = data.cache()\n",
    "data = data.shuffle(buffer_size=1024)"
   ]
  },
  {
   "cell_type": "code",
   "execution_count": 23,
   "id": "15c9bdc7-23ae-49d8-bc3c-65308536e27c",
   "metadata": {},
   "outputs": [],
   "source": [
    "sample=data.as_numpy_iterator()"
   ]
  },
  {
   "cell_type": "code",
   "execution_count": 24,
   "id": "789c2004-b30b-4605-a99b-d792a69a9412",
   "metadata": {},
   "outputs": [],
   "source": [
    "samp=sample.next()"
   ]
  },
  {
   "cell_type": "code",
   "execution_count": 109,
   "id": "40780a11-5868-47fe-b362-19003f3a4fe8",
   "metadata": {},
   "outputs": [
    {
     "data": {
      "text/plain": [
       "<matplotlib.image.AxesImage at 0x20d65afd070>"
      ]
     },
     "execution_count": 109,
     "metadata": {},
     "output_type": "execute_result"
    },
    {
     "data": {
      "image/png": "[encoded data removed]",
      "text/plain": [
       "<Figure size 640x480 with 1 Axes>"
      ]
     },
     "metadata": {},
     "output_type": "display_data"
    }
   ],
   "source": [
    "#erase next 2 cells along wih this\n",
    "plt.imshow(samp[0])"
   ]
  },
  {
   "cell_type": "code",
   "execution_count": 110,
   "id": "58d3d416-7157-4cfe-baaa-67d3f0cd8138",
   "metadata": {},
   "outputs": [
    {
     "data": {
      "text/plain": [
       "<matplotlib.image.AxesImage at 0x20d65baa120>"
      ]
     },
     "execution_count": 110,
     "metadata": {},
     "output_type": "execute_result"
    },
    {
     "data": {
      "image/png": "[encoded data removed]",
      "text/plain": [
       "<Figure size 640x480 with 1 Axes>"
      ]
     },
     "metadata": {},
     "output_type": "display_data"
    }
   ],
   "source": [
    "plt.imshow(samp[1])"
   ]
  },
  {
   "cell_type": "code",
   "execution_count": 111,
   "id": "e69ec210-3cf5-4bc3-855f-a7aaabbe9837",
   "metadata": {},
   "outputs": [
    {
     "data": {
      "text/plain": [
       "1.0"
      ]
     },
     "execution_count": 111,
     "metadata": {},
     "output_type": "execute_result"
    }
   ],
   "source": [
    "samp[2]"
   ]
  },
  {
   "cell_type": "code",
   "execution_count": 25,
   "id": "f1c9a214-89e7-49b0-8cc3-ae5d01a927c3",
   "metadata": {},
   "outputs": [],
   "source": [
    "train_data=data.take(round(len(data)*0.7))\n",
    "train_data=train_data.batch(16)\n",
    "train_data=train_data.prefetch(8)"
   ]
  },
  {
   "cell_type": "code",
   "execution_count": 26,
   "id": "58adb79c-44cc-4eca-9759-218e7a641e89",
   "metadata": {},
   "outputs": [],
   "source": [
    "train_samples=train_data.as_numpy_iterator()"
   ]
  },
  {
   "cell_type": "code",
   "execution_count": 27,
   "id": "e01cd2b4-3c40-43dc-a469-83c8dec85677",
   "metadata": {},
   "outputs": [],
   "source": [
    "train_sample=train_samples.next()"
   ]
  },
  {
   "cell_type": "code",
   "execution_count": 115,
   "id": "02dee58e-c2a7-4b5b-b8d2-97f491ecfd4a",
   "metadata": {},
   "outputs": [
    {
     "data": {
      "text/plain": [
       "16"
      ]
     },
     "execution_count": 115,
     "metadata": {},
     "output_type": "execute_result"
    }
   ],
   "source": [
    "len(train_sample[0])"
   ]
  },
  {
   "cell_type": "code",
   "execution_count": 28,
   "id": "95ffc17c-431e-4375-a329-53d5d3256d33",
   "metadata": {},
   "outputs": [],
   "source": [
    "test_data=data.skip(round(len(data)*0.7))\n",
    "test_data=test_data.take(round(len(data)*0.3))\n",
    "test_data = test_data.batch(16)\n",
    "test_data=test_data.prefetch(8)"
   ]
  },
  {
   "cell_type": "code",
   "execution_count": 29,
   "id": "59acb979-d7c9-452c-9f62-16ba0d87bba5",
   "metadata": {},
   "outputs": [],
   "source": [
    "def make_embedding():\n",
    "    inp = Input(shape=(100,100,3), name='input_image')\n",
    "    c1=Conv2D(64,(10,10),activation='relu')(inp)\n",
    "    m1=MaxPooling2D(64,(2,2),padding='same')(c1)\n",
    "\n",
    "    c2=Conv2D(128,(7,7),activation='relu')(m1)\n",
    "    m2=MaxPooling2D(64,(2,2),padding='same')(c2)\n",
    "\n",
    "    c3=Conv2D(128,(4,4),activation='relu')(m2)\n",
    "    m3=MaxPooling2D(64,(2,2),padding='same')(c3)\n",
    "\n",
    "    c4=Conv2D(256,(4,4),activation='relu')(m3)\n",
    "    f1=Flatten()(c4)\n",
    "    \n",
    "    d1=Dense(4096,activation='sigmoid')(f1)\n",
    "    return Model(inputs=[inp],outputs=[d1],name='embedding')"
   ]
  },
  {
   "cell_type": "code",
   "execution_count": 30,
   "id": "d3d83d44-2cad-4fa0-95d0-9093d15c1d50",
   "metadata": {},
   "outputs": [],
   "source": [
    "embedding=make_embedding()"
   ]
  },
  {
   "cell_type": "code",
   "execution_count": 123,
   "id": "c84d115b-2c9f-4257-be7a-5241f49bd725",
   "metadata": {},
   "outputs": [
    {
     "data": {
      "text/html": [
       "<pre style=\"white-space:pre;overflow-x:auto;line-height:normal;font-family:Menlo,'DejaVu Sans Mono',consolas,'Courier New',monospace\"><span style=\"font-weight: bold\">Model: \"embedding\"</span>\n",
       "</pre>\n"
      ],
      "text/plain": [
       "\u001b[1mModel: \"embedding\"\u001b[0m\n"
      ]
     },
     "metadata": {},
     "output_type": "display_data"
    },
    {
     "data": {
      "text/html": [
       "<pre style=\"white-space:pre;overflow-x:auto;line-height:normal;font-family:Menlo,'DejaVu Sans Mono',consolas,'Courier New',monospace\">┏━━━━━━━━━━━━━━━━━━━━━━━━━━━━━━━━━━━━━━┳━━━━━━━━━━━━━━━━━━━━━━━━━━━━━┳━━━━━━━━━━━━━━━━━┓\n",
       "┃<span style=\"font-weight: bold\"> Layer (type)                         </span>┃<span style=\"font-weight: bold\"> Output Shape                </span>┃<span style=\"font-weight: bold\">         Param # </span>┃\n",
       "┡━━━━━━━━━━━━━━━━━━━━━━━━━━━━━━━━━━━━━━╇━━━━━━━━━━━━━━━━━━━━━━━━━━━━━╇━━━━━━━━━━━━━━━━━┩\n",
       "│ input_image (<span style=\"color: #0087ff; text-decoration-color: #0087ff\">InputLayer</span>)             │ (<span style=\"color: #00d7ff; text-decoration-color: #00d7ff\">None</span>, <span style=\"color: #00af00; text-decoration-color: #00af00\">100</span>, <span style=\"color: #00af00; text-decoration-color: #00af00\">100</span>, <span style=\"color: #00af00; text-decoration-color: #00af00\">3</span>)         │               <span style=\"color: #00af00; text-decoration-color: #00af00\">0</span> │\n",
       "├──────────────────────────────────────┼─────────────────────────────┼─────────────────┤\n",
       "│ conv2d_12 (<span style=\"color: #0087ff; text-decoration-color: #0087ff\">Conv2D</span>)                   │ (<span style=\"color: #00d7ff; text-decoration-color: #00d7ff\">None</span>, <span style=\"color: #00af00; text-decoration-color: #00af00\">91</span>, <span style=\"color: #00af00; text-decoration-color: #00af00\">91</span>, <span style=\"color: #00af00; text-decoration-color: #00af00\">64</span>)          │          <span style=\"color: #00af00; text-decoration-color: #00af00\">19,264</span> │\n",
       "├──────────────────────────────────────┼─────────────────────────────┼─────────────────┤\n",
       "│ max_pooling2d_9 (<span style=\"color: #0087ff; text-decoration-color: #0087ff\">MaxPooling2D</span>)       │ (<span style=\"color: #00d7ff; text-decoration-color: #00d7ff\">None</span>, <span style=\"color: #00af00; text-decoration-color: #00af00\">46</span>, <span style=\"color: #00af00; text-decoration-color: #00af00\">46</span>, <span style=\"color: #00af00; text-decoration-color: #00af00\">64</span>)          │               <span style=\"color: #00af00; text-decoration-color: #00af00\">0</span> │\n",
       "├──────────────────────────────────────┼─────────────────────────────┼─────────────────┤\n",
       "│ conv2d_13 (<span style=\"color: #0087ff; text-decoration-color: #0087ff\">Conv2D</span>)                   │ (<span style=\"color: #00d7ff; text-decoration-color: #00d7ff\">None</span>, <span style=\"color: #00af00; text-decoration-color: #00af00\">40</span>, <span style=\"color: #00af00; text-decoration-color: #00af00\">40</span>, <span style=\"color: #00af00; text-decoration-color: #00af00\">128</span>)         │         <span style=\"color: #00af00; text-decoration-color: #00af00\">401,536</span> │\n",
       "├──────────────────────────────────────┼─────────────────────────────┼─────────────────┤\n",
       "│ max_pooling2d_10 (<span style=\"color: #0087ff; text-decoration-color: #0087ff\">MaxPooling2D</span>)      │ (<span style=\"color: #00d7ff; text-decoration-color: #00d7ff\">None</span>, <span style=\"color: #00af00; text-decoration-color: #00af00\">20</span>, <span style=\"color: #00af00; text-decoration-color: #00af00\">20</span>, <span style=\"color: #00af00; text-decoration-color: #00af00\">128</span>)         │               <span style=\"color: #00af00; text-decoration-color: #00af00\">0</span> │\n",
       "├──────────────────────────────────────┼─────────────────────────────┼─────────────────┤\n",
       "│ conv2d_14 (<span style=\"color: #0087ff; text-decoration-color: #0087ff\">Conv2D</span>)                   │ (<span style=\"color: #00d7ff; text-decoration-color: #00d7ff\">None</span>, <span style=\"color: #00af00; text-decoration-color: #00af00\">17</span>, <span style=\"color: #00af00; text-decoration-color: #00af00\">17</span>, <span style=\"color: #00af00; text-decoration-color: #00af00\">128</span>)         │         <span style=\"color: #00af00; text-decoration-color: #00af00\">262,272</span> │\n",
       "├──────────────────────────────────────┼─────────────────────────────┼─────────────────┤\n",
       "│ max_pooling2d_11 (<span style=\"color: #0087ff; text-decoration-color: #0087ff\">MaxPooling2D</span>)      │ (<span style=\"color: #00d7ff; text-decoration-color: #00d7ff\">None</span>, <span style=\"color: #00af00; text-decoration-color: #00af00\">9</span>, <span style=\"color: #00af00; text-decoration-color: #00af00\">9</span>, <span style=\"color: #00af00; text-decoration-color: #00af00\">128</span>)           │               <span style=\"color: #00af00; text-decoration-color: #00af00\">0</span> │\n",
       "├──────────────────────────────────────┼─────────────────────────────┼─────────────────┤\n",
       "│ conv2d_15 (<span style=\"color: #0087ff; text-decoration-color: #0087ff\">Conv2D</span>)                   │ (<span style=\"color: #00d7ff; text-decoration-color: #00d7ff\">None</span>, <span style=\"color: #00af00; text-decoration-color: #00af00\">6</span>, <span style=\"color: #00af00; text-decoration-color: #00af00\">6</span>, <span style=\"color: #00af00; text-decoration-color: #00af00\">256</span>)           │         <span style=\"color: #00af00; text-decoration-color: #00af00\">524,544</span> │\n",
       "├──────────────────────────────────────┼─────────────────────────────┼─────────────────┤\n",
       "│ flatten_3 (<span style=\"color: #0087ff; text-decoration-color: #0087ff\">Flatten</span>)                  │ (<span style=\"color: #00d7ff; text-decoration-color: #00d7ff\">None</span>, <span style=\"color: #00af00; text-decoration-color: #00af00\">9216</span>)                │               <span style=\"color: #00af00; text-decoration-color: #00af00\">0</span> │\n",
       "├──────────────────────────────────────┼─────────────────────────────┼─────────────────┤\n",
       "│ dense_2 (<span style=\"color: #0087ff; text-decoration-color: #0087ff\">Dense</span>)                      │ (<span style=\"color: #00d7ff; text-decoration-color: #00d7ff\">None</span>, <span style=\"color: #00af00; text-decoration-color: #00af00\">4096</span>)                │      <span style=\"color: #00af00; text-decoration-color: #00af00\">37,752,832</span> │\n",
       "└──────────────────────────────────────┴─────────────────────────────┴─────────────────┘\n",
       "</pre>\n"
      ],
      "text/plain": [
       "┏━━━━━━━━━━━━━━━━━━━━━━━━━━━━━━━━━━━━━━┳━━━━━━━━━━━━━━━━━━━━━━━━━━━━━┳━━━━━━━━━━━━━━━━━┓\n",
       "┃\u001b[1m \u001b[0m\u001b[1mLayer (type)                        \u001b[0m\u001b[1m \u001b[0m┃\u001b[1m \u001b[0m\u001b[1mOutput Shape               \u001b[0m\u001b[1m \u001b[0m┃\u001b[1m \u001b[0m\u001b[1m        Param #\u001b[0m\u001b[1m \u001b[0m┃\n",
       "┡━━━━━━━━━━━━━━━━━━━━━━━━━━━━━━━━━━━━━━╇━━━━━━━━━━━━━━━━━━━━━━━━━━━━━╇━━━━━━━━━━━━━━━━━┩\n",
       "│ input_image (\u001b[38;5;33mInputLayer\u001b[0m)             │ (\u001b[38;5;45mNone\u001b[0m, \u001b[38;5;34m100\u001b[0m, \u001b[38;5;34m100\u001b[0m, \u001b[38;5;34m3\u001b[0m)         │               \u001b[38;5;34m0\u001b[0m │\n",
       "├──────────────────────────────────────┼─────────────────────────────┼─────────────────┤\n",
       "│ conv2d_12 (\u001b[38;5;33mConv2D\u001b[0m)                   │ (\u001b[38;5;45mNone\u001b[0m, \u001b[38;5;34m91\u001b[0m, \u001b[38;5;34m91\u001b[0m, \u001b[38;5;34m64\u001b[0m)          │          \u001b[38;5;34m19,264\u001b[0m │\n",
       "├──────────────────────────────────────┼─────────────────────────────┼─────────────────┤\n",
       "│ max_pooling2d_9 (\u001b[38;5;33mMaxPooling2D\u001b[0m)       │ (\u001b[38;5;45mNone\u001b[0m, \u001b[38;5;34m46\u001b[0m, \u001b[38;5;34m46\u001b[0m, \u001b[38;5;34m64\u001b[0m)          │               \u001b[38;5;34m0\u001b[0m │\n",
       "├──────────────────────────────────────┼─────────────────────────────┼─────────────────┤\n",
       "│ conv2d_13 (\u001b[38;5;33mConv2D\u001b[0m)                   │ (\u001b[38;5;45mNone\u001b[0m, \u001b[38;5;34m40\u001b[0m, \u001b[38;5;34m40\u001b[0m, \u001b[38;5;34m128\u001b[0m)         │         \u001b[38;5;34m401,536\u001b[0m │\n",
       "├──────────────────────────────────────┼─────────────────────────────┼─────────────────┤\n",
       "│ max_pooling2d_10 (\u001b[38;5;33mMaxPooling2D\u001b[0m)      │ (\u001b[38;5;45mNone\u001b[0m, \u001b[38;5;34m20\u001b[0m, \u001b[38;5;34m20\u001b[0m, \u001b[38;5;34m128\u001b[0m)         │               \u001b[38;5;34m0\u001b[0m │\n",
       "├──────────────────────────────────────┼─────────────────────────────┼─────────────────┤\n",
       "│ conv2d_14 (\u001b[38;5;33mConv2D\u001b[0m)                   │ (\u001b[38;5;45mNone\u001b[0m, \u001b[38;5;34m17\u001b[0m, \u001b[38;5;34m17\u001b[0m, \u001b[38;5;34m128\u001b[0m)         │         \u001b[38;5;34m262,272\u001b[0m │\n",
       "├──────────────────────────────────────┼─────────────────────────────┼─────────────────┤\n",
       "│ max_pooling2d_11 (\u001b[38;5;33mMaxPooling2D\u001b[0m)      │ (\u001b[38;5;45mNone\u001b[0m, \u001b[38;5;34m9\u001b[0m, \u001b[38;5;34m9\u001b[0m, \u001b[38;5;34m128\u001b[0m)           │               \u001b[38;5;34m0\u001b[0m │\n",
       "├──────────────────────────────────────┼─────────────────────────────┼─────────────────┤\n",
       "│ conv2d_15 (\u001b[38;5;33mConv2D\u001b[0m)                   │ (\u001b[38;5;45mNone\u001b[0m, \u001b[38;5;34m6\u001b[0m, \u001b[38;5;34m6\u001b[0m, \u001b[38;5;34m256\u001b[0m)           │         \u001b[38;5;34m524,544\u001b[0m │\n",
       "├──────────────────────────────────────┼─────────────────────────────┼─────────────────┤\n",
       "│ flatten_3 (\u001b[38;5;33mFlatten\u001b[0m)                  │ (\u001b[38;5;45mNone\u001b[0m, \u001b[38;5;34m9216\u001b[0m)                │               \u001b[38;5;34m0\u001b[0m │\n",
       "├──────────────────────────────────────┼─────────────────────────────┼─────────────────┤\n",
       "│ dense_2 (\u001b[38;5;33mDense\u001b[0m)                      │ (\u001b[38;5;45mNone\u001b[0m, \u001b[38;5;34m4096\u001b[0m)                │      \u001b[38;5;34m37,752,832\u001b[0m │\n",
       "└──────────────────────────────────────┴─────────────────────────────┴─────────────────┘\n"
      ]
     },
     "metadata": {},
     "output_type": "display_data"
    },
    {
     "data": {
      "text/html": [
       "<pre style=\"white-space:pre;overflow-x:auto;line-height:normal;font-family:Menlo,'DejaVu Sans Mono',consolas,'Courier New',monospace\"><span style=\"font-weight: bold\"> Total params: </span><span style=\"color: #00af00; text-decoration-color: #00af00\">38,960,448</span> (148.62 MB)\n",
       "</pre>\n"
      ],
      "text/plain": [
       "\u001b[1m Total params: \u001b[0m\u001b[38;5;34m38,960,448\u001b[0m (148.62 MB)\n"
      ]
     },
     "metadata": {},
     "output_type": "display_data"
    },
    {
     "data": {
      "text/html": [
       "<pre style=\"white-space:pre;overflow-x:auto;line-height:normal;font-family:Menlo,'DejaVu Sans Mono',consolas,'Courier New',monospace\"><span style=\"font-weight: bold\"> Trainable params: </span><span style=\"color: #00af00; text-decoration-color: #00af00\">38,960,448</span> (148.62 MB)\n",
       "</pre>\n"
      ],
      "text/plain": [
       "\u001b[1m Trainable params: \u001b[0m\u001b[38;5;34m38,960,448\u001b[0m (148.62 MB)\n"
      ]
     },
     "metadata": {},
     "output_type": "display_data"
    },
    {
     "data": {
      "text/html": [
       "<pre style=\"white-space:pre;overflow-x:auto;line-height:normal;font-family:Menlo,'DejaVu Sans Mono',consolas,'Courier New',monospace\"><span style=\"font-weight: bold\"> Non-trainable params: </span><span style=\"color: #00af00; text-decoration-color: #00af00\">0</span> (0.00 B)\n",
       "</pre>\n"
      ],
      "text/plain": [
       "\u001b[1m Non-trainable params: \u001b[0m\u001b[38;5;34m0\u001b[0m (0.00 B)\n"
      ]
     },
     "metadata": {},
     "output_type": "display_data"
    }
   ],
   "source": [
    "embedding.summary()"
   ]
  },
  {
   "cell_type": "code",
   "execution_count": 31,
   "id": "9cad788f-5737-4996-ad44-d2ca0dabb401",
   "metadata": {},
   "outputs": [],
   "source": [
    "class L1Dist(Layer):\n",
    "    def __init__(self,**kwargs):\n",
    "        super().__init__()\n",
    "\n",
    "    def call(self,input_embedding,validation_embedding):\n",
    "        input_embedding=tf.convert_to_tensor(input_embedding)\n",
    "        validation_embedding=tf.convert_to_tensor(validation_embedding)\n",
    "        return tf.math.abs(input_embedding - validation_embedding)\n",
    "    def comput_output_shape(self,input_shape):\n",
    "        return input_shape[0]"
   ]
  },
  {
   "cell_type": "code",
   "execution_count": 32,
   "id": "93ab76e2-68ac-4cce-b293-8616eed5b6e9",
   "metadata": {},
   "outputs": [],
   "source": [
    "def make_siamese_model(): \n",
    "    \n",
    "    # Anchor image input in the network\n",
    "    input_image = Input(name='input_img', shape=(100,100,3))\n",
    "    \n",
    "    # Validation image in the network \n",
    "    validation_image = Input(name='validation_img', shape=(100,100,3))\n",
    "    \n",
    "    # Combine siamese distance components\n",
    "    siamese_layer = L1Dist()\n",
    "    siamese_layer._name = 'distance'\n",
    "    distances = siamese_layer(embedding(input_image), embedding(validation_image))\n",
    "    \n",
    "    # Classification layer \n",
    "    classifier = Dense(1, activation='sigmoid')(distances)\n",
    "    \n",
    "    return Model(inputs=[input_image, validation_image], outputs=classifier, name='SiameseNetwork')"
   ]
  },
  {
   "cell_type": "code",
   "execution_count": 33,
   "id": "dc3be04d-15df-4c5a-96eb-0788345fbcfd",
   "metadata": {},
   "outputs": [
    {
     "name": "stdout",
     "output_type": "stream",
     "text": [
      "WARNING:tensorflow:From C:\\Users\\anjal\\AppData\\Roaming\\Python\\Python312\\site-packages\\keras\\src\\backend\\tensorflow\\core.py:184: The name tf.placeholder is deprecated. Please use tf.compat.v1.placeholder instead.\n",
      "\n"
     ]
    }
   ],
   "source": [
    "siamese_model = make_siamese_model()"
   ]
  },
  {
   "cell_type": "code",
   "execution_count": 192,
   "id": "795c387a-9188-47e2-afb1-d0181bc01929",
   "metadata": {},
   "outputs": [
    {
     "data": {
      "text/html": [
       "<pre style=\"white-space:pre;overflow-x:auto;line-height:normal;font-family:Menlo,'DejaVu Sans Mono',consolas,'Courier New',monospace\"><span style=\"font-weight: bold\">Model: \"SiameseNetwork\"</span>\n",
       "</pre>\n"
      ],
      "text/plain": [
       "\u001b[1mModel: \"SiameseNetwork\"\u001b[0m\n"
      ]
     },
     "metadata": {},
     "output_type": "display_data"
    },
    {
     "data": {
      "text/html": [
       "<pre style=\"white-space:pre;overflow-x:auto;line-height:normal;font-family:Menlo,'DejaVu Sans Mono',consolas,'Courier New',monospace\">┏━━━━━━━━━━━━━━━━━━━━━━━━━━━━━━━┳━━━━━━━━━━━━━━━━━━━━━━━━━━━┳━━━━━━━━━━━━━━━━━┳━━━━━━━━━━━━━━━━━━━━━━━━━━━━┓\n",
       "┃<span style=\"font-weight: bold\"> Layer (type)                  </span>┃<span style=\"font-weight: bold\"> Output Shape              </span>┃<span style=\"font-weight: bold\">         Param # </span>┃<span style=\"font-weight: bold\"> Connected to               </span>┃\n",
       "┡━━━━━━━━━━━━━━━━━━━━━━━━━━━━━━━╇━━━━━━━━━━━━━━━━━━━━━━━━━━━╇━━━━━━━━━━━━━━━━━╇━━━━━━━━━━━━━━━━━━━━━━━━━━━━┩\n",
       "│ input_img (<span style=\"color: #0087ff; text-decoration-color: #0087ff\">InputLayer</span>)        │ (<span style=\"color: #00d7ff; text-decoration-color: #00d7ff\">None</span>, <span style=\"color: #00af00; text-decoration-color: #00af00\">100</span>, <span style=\"color: #00af00; text-decoration-color: #00af00\">100</span>, <span style=\"color: #00af00; text-decoration-color: #00af00\">3</span>)       │               <span style=\"color: #00af00; text-decoration-color: #00af00\">0</span> │ -                          │\n",
       "├───────────────────────────────┼───────────────────────────┼─────────────────┼────────────────────────────┤\n",
       "│ validation_img (<span style=\"color: #0087ff; text-decoration-color: #0087ff\">InputLayer</span>)   │ (<span style=\"color: #00d7ff; text-decoration-color: #00d7ff\">None</span>, <span style=\"color: #00af00; text-decoration-color: #00af00\">100</span>, <span style=\"color: #00af00; text-decoration-color: #00af00\">100</span>, <span style=\"color: #00af00; text-decoration-color: #00af00\">3</span>)       │               <span style=\"color: #00af00; text-decoration-color: #00af00\">0</span> │ -                          │\n",
       "├───────────────────────────────┼───────────────────────────┼─────────────────┼────────────────────────────┤\n",
       "│ embedding (<span style=\"color: #0087ff; text-decoration-color: #0087ff\">Functional</span>)        │ (<span style=\"color: #00d7ff; text-decoration-color: #00d7ff\">None</span>, <span style=\"color: #00af00; text-decoration-color: #00af00\">4096</span>)              │      <span style=\"color: #00af00; text-decoration-color: #00af00\">38,960,448</span> │ input_img[<span style=\"color: #00af00; text-decoration-color: #00af00\">0</span>][<span style=\"color: #00af00; text-decoration-color: #00af00\">0</span>],           │\n",
       "│                               │                           │                 │ validation_img[<span style=\"color: #00af00; text-decoration-color: #00af00\">0</span>][<span style=\"color: #00af00; text-decoration-color: #00af00\">0</span>]       │\n",
       "├───────────────────────────────┼───────────────────────────┼─────────────────┼────────────────────────────┤\n",
       "│ l1_dist_27 (<span style=\"color: #0087ff; text-decoration-color: #0087ff\">L1Dist</span>)           │ (<span style=\"color: #00af00; text-decoration-color: #00af00\">1</span>, <span style=\"color: #00d7ff; text-decoration-color: #00d7ff\">None</span>, <span style=\"color: #00af00; text-decoration-color: #00af00\">4096</span>)           │               <span style=\"color: #00af00; text-decoration-color: #00af00\">0</span> │ embedding[<span style=\"color: #00af00; text-decoration-color: #00af00\">42</span>][<span style=\"color: #00af00; text-decoration-color: #00af00\">0</span>],          │\n",
       "│                               │                           │                 │ embedding[<span style=\"color: #00af00; text-decoration-color: #00af00\">43</span>][<span style=\"color: #00af00; text-decoration-color: #00af00\">0</span>]           │\n",
       "├───────────────────────────────┼───────────────────────────┼─────────────────┼────────────────────────────┤\n",
       "│ dense_9 (<span style=\"color: #0087ff; text-decoration-color: #0087ff\">Dense</span>)               │ (<span style=\"color: #00af00; text-decoration-color: #00af00\">1</span>, <span style=\"color: #00d7ff; text-decoration-color: #00d7ff\">None</span>, <span style=\"color: #00af00; text-decoration-color: #00af00\">1</span>)              │           <span style=\"color: #00af00; text-decoration-color: #00af00\">4,097</span> │ l1_dist_27[<span style=\"color: #00af00; text-decoration-color: #00af00\">0</span>][<span style=\"color: #00af00; text-decoration-color: #00af00\">0</span>]           │\n",
       "└───────────────────────────────┴───────────────────────────┴─────────────────┴────────────────────────────┘\n",
       "</pre>\n"
      ],
      "text/plain": [
       "┏━━━━━━━━━━━━━━━━━━━━━━━━━━━━━━━┳━━━━━━━━━━━━━━━━━━━━━━━━━━━┳━━━━━━━━━━━━━━━━━┳━━━━━━━━━━━━━━━━━━━━━━━━━━━━┓\n",
       "┃\u001b[1m \u001b[0m\u001b[1mLayer (type)                 \u001b[0m\u001b[1m \u001b[0m┃\u001b[1m \u001b[0m\u001b[1mOutput Shape             \u001b[0m\u001b[1m \u001b[0m┃\u001b[1m \u001b[0m\u001b[1m        Param #\u001b[0m\u001b[1m \u001b[0m┃\u001b[1m \u001b[0m\u001b[1mConnected to              \u001b[0m\u001b[1m \u001b[0m┃\n",
       "┡━━━━━━━━━━━━━━━━━━━━━━━━━━━━━━━╇━━━━━━━━━━━━━━━━━━━━━━━━━━━╇━━━━━━━━━━━━━━━━━╇━━━━━━━━━━━━━━━━━━━━━━━━━━━━┩\n",
       "│ input_img (\u001b[38;5;33mInputLayer\u001b[0m)        │ (\u001b[38;5;45mNone\u001b[0m, \u001b[38;5;34m100\u001b[0m, \u001b[38;5;34m100\u001b[0m, \u001b[38;5;34m3\u001b[0m)       │               \u001b[38;5;34m0\u001b[0m │ -                          │\n",
       "├───────────────────────────────┼───────────────────────────┼─────────────────┼────────────────────────────┤\n",
       "│ validation_img (\u001b[38;5;33mInputLayer\u001b[0m)   │ (\u001b[38;5;45mNone\u001b[0m, \u001b[38;5;34m100\u001b[0m, \u001b[38;5;34m100\u001b[0m, \u001b[38;5;34m3\u001b[0m)       │               \u001b[38;5;34m0\u001b[0m │ -                          │\n",
       "├───────────────────────────────┼───────────────────────────┼─────────────────┼────────────────────────────┤\n",
       "│ embedding (\u001b[38;5;33mFunctional\u001b[0m)        │ (\u001b[38;5;45mNone\u001b[0m, \u001b[38;5;34m4096\u001b[0m)              │      \u001b[38;5;34m38,960,448\u001b[0m │ input_img[\u001b[38;5;34m0\u001b[0m][\u001b[38;5;34m0\u001b[0m],           │\n",
       "│                               │                           │                 │ validation_img[\u001b[38;5;34m0\u001b[0m][\u001b[38;5;34m0\u001b[0m]       │\n",
       "├───────────────────────────────┼───────────────────────────┼─────────────────┼────────────────────────────┤\n",
       "│ l1_dist_27 (\u001b[38;5;33mL1Dist\u001b[0m)           │ (\u001b[38;5;34m1\u001b[0m, \u001b[38;5;45mNone\u001b[0m, \u001b[38;5;34m4096\u001b[0m)           │               \u001b[38;5;34m0\u001b[0m │ embedding[\u001b[38;5;34m42\u001b[0m][\u001b[38;5;34m0\u001b[0m],          │\n",
       "│                               │                           │                 │ embedding[\u001b[38;5;34m43\u001b[0m][\u001b[38;5;34m0\u001b[0m]           │\n",
       "├───────────────────────────────┼───────────────────────────┼─────────────────┼────────────────────────────┤\n",
       "│ dense_9 (\u001b[38;5;33mDense\u001b[0m)               │ (\u001b[38;5;34m1\u001b[0m, \u001b[38;5;45mNone\u001b[0m, \u001b[38;5;34m1\u001b[0m)              │           \u001b[38;5;34m4,097\u001b[0m │ l1_dist_27[\u001b[38;5;34m0\u001b[0m][\u001b[38;5;34m0\u001b[0m]           │\n",
       "└───────────────────────────────┴───────────────────────────┴─────────────────┴────────────────────────────┘\n"
      ]
     },
     "metadata": {},
     "output_type": "display_data"
    },
    {
     "data": {
      "text/html": [
       "<pre style=\"white-space:pre;overflow-x:auto;line-height:normal;font-family:Menlo,'DejaVu Sans Mono',consolas,'Courier New',monospace\"><span style=\"font-weight: bold\"> Total params: </span><span style=\"color: #00af00; text-decoration-color: #00af00\">38,964,545</span> (148.64 MB)\n",
       "</pre>\n"
      ],
      "text/plain": [
       "\u001b[1m Total params: \u001b[0m\u001b[38;5;34m38,964,545\u001b[0m (148.64 MB)\n"
      ]
     },
     "metadata": {},
     "output_type": "display_data"
    },
    {
     "data": {
      "text/html": [
       "<pre style=\"white-space:pre;overflow-x:auto;line-height:normal;font-family:Menlo,'DejaVu Sans Mono',consolas,'Courier New',monospace\"><span style=\"font-weight: bold\"> Trainable params: </span><span style=\"color: #00af00; text-decoration-color: #00af00\">38,964,545</span> (148.64 MB)\n",
       "</pre>\n"
      ],
      "text/plain": [
       "\u001b[1m Trainable params: \u001b[0m\u001b[38;5;34m38,964,545\u001b[0m (148.64 MB)\n"
      ]
     },
     "metadata": {},
     "output_type": "display_data"
    },
    {
     "data": {
      "text/html": [
       "<pre style=\"white-space:pre;overflow-x:auto;line-height:normal;font-family:Menlo,'DejaVu Sans Mono',consolas,'Courier New',monospace\"><span style=\"font-weight: bold\"> Non-trainable params: </span><span style=\"color: #00af00; text-decoration-color: #00af00\">0</span> (0.00 B)\n",
       "</pre>\n"
      ],
      "text/plain": [
       "\u001b[1m Non-trainable params: \u001b[0m\u001b[38;5;34m0\u001b[0m (0.00 B)\n"
      ]
     },
     "metadata": {},
     "output_type": "display_data"
    }
   ],
   "source": [
    "siamese_model.summary()"
   ]
  },
  {
   "cell_type": "code",
   "execution_count": 34,
   "id": "377d3e29-c722-4aca-bd7b-11145a864790",
   "metadata": {},
   "outputs": [],
   "source": [
    "binary_cross_loss=tf.losses.BinaryCrossentropy()"
   ]
  },
  {
   "cell_type": "code",
   "execution_count": 35,
   "id": "a8f1f405-07d7-450c-ac4e-4ba390f6c239",
   "metadata": {},
   "outputs": [],
   "source": [
    "opt=tf.keras.optimizers.Adam(1e-4)"
   ]
  },
  {
   "cell_type": "code",
   "execution_count": 36,
   "id": "57f14765-d898-4b88-9a89-231d57135a29",
   "metadata": {},
   "outputs": [],
   "source": [
    "checkpoint_dir='./training_checkpoints'\n",
    "checkpoint_prefix=os.path.join(checkpoint_dir,'ckpt')\n",
    "checkpoint=tf.train.Checkpoint(opt=opt,siamese_model=siamese_model)"
   ]
  },
  {
   "cell_type": "code",
   "execution_count": 37,
   "id": "d8860965-969f-4268-bae7-1d2df9de43a6",
   "metadata": {},
   "outputs": [],
   "source": [
    "test_batch=train_data.as_numpy_iterator()"
   ]
  },
  {
   "cell_type": "code",
   "execution_count": 38,
   "id": "bf16704f-4771-4be8-892b-e61bf597594a",
   "metadata": {},
   "outputs": [],
   "source": [
    "@tf.function\n",
    "def train_step(batch):\n",
    "    with tf.GradientTape() as tape:\n",
    "        X=batch[:2]\n",
    "        y=batch[2]\n",
    "        yhat=siamese_model(X,training=True)\n",
    "        yhat = tf.reshape(yhat, tf.shape(y))\n",
    "        loss=binary_cross_loss(y,yhat)\n",
    "    print(loss)\n",
    "    grad=tape.gradient(loss,siamese_model.trainable_variables)\n",
    "    opt.apply_gradients(zip(grad,siamese_model.trainable_variables))\n",
    "\n",
    "    return loss"
   ]
  },
  {
   "cell_type": "code",
   "execution_count": 4,
   "id": "8229fc47-3176-4fbc-9f43-13953ca3cb47",
   "metadata": {},
   "outputs": [],
   "source": [
    "def train(data,EPOCHS):\n",
    "    for epoch in range(1,EPOCHS+1):\n",
    "        print('\\n Epoch{}/{}'.format(epoch,EPOCHS))\n",
    "        progbar=tf.keras.utils.Progbar(len(data))\n",
    "        for idx,batch in enumerate(data):\n",
    "            train_step(batch)\n",
    "            progbar.update(idx+1)\n",
    "\n",
    "        if epoch%10==0:\n",
    "            checkpoint.save(file_prefix=checkpoint_prefix)"
   ]
  },
  {
   "cell_type": "code",
   "execution_count": 244,
   "id": "0efc4114-1520-42ec-a0f0-efefef44b6d1",
   "metadata": {},
   "outputs": [],
   "source": [
    "EPOCHS=50"
   ]
  },
  {
   "cell_type": "code",
   "execution_count": 245,
   "id": "afcd9127-16bc-424b-8904-1e09648e3087",
   "metadata": {},
   "outputs": [
    {
     "name": "stdout",
     "output_type": "stream",
     "text": [
      "\n",
      " Epoch1/50\n",
      "Tensor(\"binary_crossentropy/Mean:0\", shape=(), dtype=float32)\n",
      "Tensor(\"binary_crossentropy/Mean:0\", shape=(), dtype=float32)\n",
      "\u001b[1m26/27\u001b[0m \u001b[32m━━━━━━━━━━━━━━━━━━━\u001b[0m\u001b[37m━\u001b[0m \u001b[1m4s\u001b[0m 4s/stepTensor(\"binary_crossentropy/Mean:0\", shape=(), dtype=float32)\n",
      "\u001b[1m27/27\u001b[0m \u001b[32m━━━━━━━━━━━━━━━━━━━━\u001b[0m\u001b[37m\u001b[0m \u001b[1m114s\u001b[0m 4s/step\n",
      "\n",
      " Epoch2/50\n",
      "\u001b[1m27/27\u001b[0m \u001b[32m━━━━━━━━━━━━━━━━━━━━\u001b[0m\u001b[37m\u001b[0m \u001b[1m108s\u001b[0m 4s/step\n",
      "\n",
      " Epoch3/50\n",
      "\u001b[1m27/27\u001b[0m \u001b[32m━━━━━━━━━━━━━━━━━━━━\u001b[0m\u001b[37m\u001b[0m \u001b[1m113s\u001b[0m 4s/step\n",
      "\n",
      " Epoch4/50\n",
      "\u001b[1m27/27\u001b[0m \u001b[32m━━━━━━━━━━━━━━━━━━━━\u001b[0m\u001b[37m\u001b[0m \u001b[1m147s\u001b[0m 5s/step\n",
      "\n",
      " Epoch5/50\n",
      "\u001b[1m27/27\u001b[0m \u001b[32m━━━━━━━━━━━━━━━━━━━━\u001b[0m\u001b[37m\u001b[0m \u001b[1m147s\u001b[0m 5s/step\n",
      "\n",
      " Epoch6/50\n",
      "\u001b[1m27/27\u001b[0m \u001b[32m━━━━━━━━━━━━━━━━━━━━\u001b[0m\u001b[37m\u001b[0m \u001b[1m173s\u001b[0m 6s/step\n",
      "\n",
      " Epoch7/50\n",
      "\u001b[1m27/27\u001b[0m \u001b[32m━━━━━━━━━━━━━━━━━━━━\u001b[0m\u001b[37m\u001b[0m \u001b[1m133s\u001b[0m 5s/step\n",
      "\n",
      " Epoch8/50\n",
      "\u001b[1m27/27\u001b[0m \u001b[32m━━━━━━━━━━━━━━━━━━━━\u001b[0m\u001b[37m\u001b[0m \u001b[1m134s\u001b[0m 5s/step\n",
      "\n",
      " Epoch9/50\n",
      "\u001b[1m27/27\u001b[0m \u001b[32m━━━━━━━━━━━━━━━━━━━━\u001b[0m\u001b[37m\u001b[0m \u001b[1m160s\u001b[0m 6s/step\n",
      "\n",
      " Epoch10/50\n",
      "\u001b[1m27/27\u001b[0m \u001b[32m━━━━━━━━━━━━━━━━━━━━\u001b[0m\u001b[37m\u001b[0m \u001b[1m167s\u001b[0m 6s/step\n",
      "\n",
      " Epoch11/50\n",
      "\u001b[1m27/27\u001b[0m \u001b[32m━━━━━━━━━━━━━━━━━━━━\u001b[0m\u001b[37m\u001b[0m \u001b[1m177s\u001b[0m 7s/step\n",
      "\n",
      " Epoch12/50\n",
      "\u001b[1m27/27\u001b[0m \u001b[32m━━━━━━━━━━━━━━━━━━━━\u001b[0m\u001b[37m\u001b[0m \u001b[1m139s\u001b[0m 5s/step\n",
      "\n",
      " Epoch13/50\n",
      "\u001b[1m27/27\u001b[0m \u001b[32m━━━━━━━━━━━━━━━━━━━━\u001b[0m\u001b[37m\u001b[0m \u001b[1m143s\u001b[0m 5s/step\n",
      "\n",
      " Epoch14/50\n",
      "\u001b[1m27/27\u001b[0m \u001b[32m━━━━━━━━━━━━━━━━━━━━\u001b[0m\u001b[37m\u001b[0m \u001b[1m154s\u001b[0m 6s/step\n",
      "\n",
      " Epoch15/50\n",
      "\u001b[1m27/27\u001b[0m \u001b[32m━━━━━━━━━━━━━━━━━━━━\u001b[0m\u001b[37m\u001b[0m \u001b[1m142s\u001b[0m 5s/step\n",
      "\n",
      " Epoch16/50\n",
      "\u001b[1m27/27\u001b[0m \u001b[32m━━━━━━━━━━━━━━━━━━━━\u001b[0m\u001b[37m\u001b[0m \u001b[1m138s\u001b[0m 5s/step\n",
      "\n",
      " Epoch17/50\n",
      "\u001b[1m27/27\u001b[0m \u001b[32m━━━━━━━━━━━━━━━━━━━━\u001b[0m\u001b[37m\u001b[0m \u001b[1m134s\u001b[0m 5s/step\n",
      "\n",
      " Epoch18/50\n",
      "\u001b[1m27/27\u001b[0m \u001b[32m━━━━━━━━━━━━━━━━━━━━\u001b[0m\u001b[37m\u001b[0m \u001b[1m148s\u001b[0m 5s/step\n",
      "\n",
      " Epoch19/50\n",
      "\u001b[1m27/27\u001b[0m \u001b[32m━━━━━━━━━━━━━━━━━━━━\u001b[0m\u001b[37m\u001b[0m \u001b[1m158s\u001b[0m 6s/step\n",
      "\n",
      " Epoch20/50\n",
      "\u001b[1m27/27\u001b[0m \u001b[32m━━━━━━━━━━━━━━━━━━━━\u001b[0m\u001b[37m\u001b[0m \u001b[1m139s\u001b[0m 5s/step\n",
      "\n",
      " Epoch21/50\n",
      "\u001b[1m27/27\u001b[0m \u001b[32m━━━━━━━━━━━━━━━━━━━━\u001b[0m\u001b[37m\u001b[0m \u001b[1m136s\u001b[0m 5s/step\n",
      "\n",
      " Epoch22/50\n",
      "\u001b[1m27/27\u001b[0m \u001b[32m━━━━━━━━━━━━━━━━━━━━\u001b[0m\u001b[37m\u001b[0m \u001b[1m128s\u001b[0m 5s/step\n",
      "\n",
      " Epoch23/50\n",
      "\u001b[1m27/27\u001b[0m \u001b[32m━━━━━━━━━━━━━━━━━━━━\u001b[0m\u001b[37m\u001b[0m \u001b[1m128s\u001b[0m 5s/step\n",
      "\n",
      " Epoch24/50\n",
      "\u001b[1m27/27\u001b[0m \u001b[32m━━━━━━━━━━━━━━━━━━━━\u001b[0m\u001b[37m\u001b[0m \u001b[1m132s\u001b[0m 5s/step\n",
      "\n",
      " Epoch25/50\n",
      "\u001b[1m27/27\u001b[0m \u001b[32m━━━━━━━━━━━━━━━━━━━━\u001b[0m\u001b[37m\u001b[0m \u001b[1m134s\u001b[0m 5s/step\n",
      "\n",
      " Epoch26/50\n",
      "\u001b[1m27/27\u001b[0m \u001b[32m━━━━━━━━━━━━━━━━━━━━\u001b[0m\u001b[37m\u001b[0m \u001b[1m150s\u001b[0m 6s/step\n",
      "\n",
      " Epoch27/50\n",
      "\u001b[1m27/27\u001b[0m \u001b[32m━━━━━━━━━━━━━━━━━━━━\u001b[0m\u001b[37m\u001b[0m \u001b[1m150s\u001b[0m 6s/step\n",
      "\n",
      " Epoch28/50\n",
      "\u001b[1m27/27\u001b[0m \u001b[32m━━━━━━━━━━━━━━━━━━━━\u001b[0m\u001b[37m\u001b[0m \u001b[1m144s\u001b[0m 5s/step\n",
      "\n",
      " Epoch29/50\n",
      "\u001b[1m27/27\u001b[0m \u001b[32m━━━━━━━━━━━━━━━━━━━━\u001b[0m\u001b[37m\u001b[0m \u001b[1m146s\u001b[0m 5s/step\n",
      "\n",
      " Epoch30/50\n",
      "\u001b[1m27/27\u001b[0m \u001b[32m━━━━━━━━━━━━━━━━━━━━\u001b[0m\u001b[37m\u001b[0m \u001b[1m144s\u001b[0m 5s/step\n",
      "\n",
      " Epoch31/50\n",
      "\u001b[1m27/27\u001b[0m \u001b[32m━━━━━━━━━━━━━━━━━━━━\u001b[0m\u001b[37m\u001b[0m \u001b[1m147s\u001b[0m 5s/step\n",
      "\n",
      " Epoch32/50\n",
      "\u001b[1m27/27\u001b[0m \u001b[32m━━━━━━━━━━━━━━━━━━━━\u001b[0m\u001b[37m\u001b[0m \u001b[1m156s\u001b[0m 6s/step\n",
      "\n",
      " Epoch33/50\n",
      "\u001b[1m27/27\u001b[0m \u001b[32m━━━━━━━━━━━━━━━━━━━━\u001b[0m\u001b[37m\u001b[0m \u001b[1m135s\u001b[0m 5s/step\n",
      "\n",
      " Epoch34/50\n",
      "\u001b[1m27/27\u001b[0m \u001b[32m━━━━━━━━━━━━━━━━━━━━\u001b[0m\u001b[37m\u001b[0m \u001b[1m132s\u001b[0m 5s/step\n",
      "\n",
      " Epoch35/50\n",
      "\u001b[1m27/27\u001b[0m \u001b[32m━━━━━━━━━━━━━━━━━━━━\u001b[0m\u001b[37m\u001b[0m \u001b[1m132s\u001b[0m 5s/step\n",
      "\n",
      " Epoch36/50\n",
      "\u001b[1m27/27\u001b[0m \u001b[32m━━━━━━━━━━━━━━━━━━━━\u001b[0m\u001b[37m\u001b[0m \u001b[1m125s\u001b[0m 5s/step\n",
      "\n",
      " Epoch37/50\n",
      "\u001b[1m27/27\u001b[0m \u001b[32m━━━━━━━━━━━━━━━━━━━━\u001b[0m\u001b[37m\u001b[0m \u001b[1m123s\u001b[0m 5s/step\n",
      "\n",
      " Epoch38/50\n",
      "\u001b[1m27/27\u001b[0m \u001b[32m━━━━━━━━━━━━━━━━━━━━\u001b[0m\u001b[37m\u001b[0m \u001b[1m123s\u001b[0m 5s/step\n",
      "\n",
      " Epoch39/50\n",
      "\u001b[1m27/27\u001b[0m \u001b[32m━━━━━━━━━━━━━━━━━━━━\u001b[0m\u001b[37m\u001b[0m \u001b[1m121s\u001b[0m 5s/step\n",
      "\n",
      " Epoch40/50\n",
      "\u001b[1m27/27\u001b[0m \u001b[32m━━━━━━━━━━━━━━━━━━━━\u001b[0m\u001b[37m\u001b[0m \u001b[1m135s\u001b[0m 5s/step\n",
      "\n",
      " Epoch41/50\n",
      "\u001b[1m27/27\u001b[0m \u001b[32m━━━━━━━━━━━━━━━━━━━━\u001b[0m\u001b[37m\u001b[0m \u001b[1m144s\u001b[0m 5s/step\n",
      "\n",
      " Epoch42/50\n",
      "\u001b[1m27/27\u001b[0m \u001b[32m━━━━━━━━━━━━━━━━━━━━\u001b[0m\u001b[37m\u001b[0m \u001b[1m138s\u001b[0m 5s/step\n",
      "\n",
      " Epoch43/50\n",
      "\u001b[1m27/27\u001b[0m \u001b[32m━━━━━━━━━━━━━━━━━━━━\u001b[0m\u001b[37m\u001b[0m \u001b[1m126s\u001b[0m 5s/step\n",
      "\n",
      " Epoch44/50\n",
      "\u001b[1m27/27\u001b[0m \u001b[32m━━━━━━━━━━━━━━━━━━━━\u001b[0m\u001b[37m\u001b[0m \u001b[1m128s\u001b[0m 5s/step\n",
      "\n",
      " Epoch45/50\n",
      "\u001b[1m27/27\u001b[0m \u001b[32m━━━━━━━━━━━━━━━━━━━━\u001b[0m\u001b[37m\u001b[0m \u001b[1m127s\u001b[0m 5s/step\n",
      "\n",
      " Epoch46/50\n",
      "\u001b[1m27/27\u001b[0m \u001b[32m━━━━━━━━━━━━━━━━━━━━\u001b[0m\u001b[37m\u001b[0m \u001b[1m125s\u001b[0m 5s/step\n",
      "\n",
      " Epoch47/50\n",
      "\u001b[1m27/27\u001b[0m \u001b[32m━━━━━━━━━━━━━━━━━━━━\u001b[0m\u001b[37m\u001b[0m \u001b[1m121s\u001b[0m 4s/step\n",
      "\n",
      " Epoch48/50\n",
      "\u001b[1m27/27\u001b[0m \u001b[32m━━━━━━━━━━━━━━━━━━━━\u001b[0m\u001b[37m\u001b[0m \u001b[1m114s\u001b[0m 4s/step\n",
      "\n",
      " Epoch49/50\n",
      "\u001b[1m27/27\u001b[0m \u001b[32m━━━━━━━━━━━━━━━━━━━━\u001b[0m\u001b[37m\u001b[0m \u001b[1m128s\u001b[0m 5s/step\n",
      "\n",
      " Epoch50/50\n",
      "\u001b[1m27/27\u001b[0m \u001b[32m━━━━━━━━━━━━━━━━━━━━\u001b[0m\u001b[37m\u001b[0m \u001b[1m114s\u001b[0m 4s/step\n"
     ]
    }
   ],
   "source": [
    "train(train_data,EPOCHS)"
   ]
  },
  {
   "cell_type": "code",
   "execution_count": 39,
   "id": "d7838201-d72f-476e-be3a-79a51920c455",
   "metadata": {},
   "outputs": [],
   "source": [
    "test_input,test_val,y_true=test_data.as_numpy_iterator().next()"
   ]
  },
  {
   "cell_type": "code",
   "execution_count": 40,
   "id": "53209dc6-5aba-4755-a7b1-c6f0af904948",
   "metadata": {},
   "outputs": [
    {
     "name": "stdout",
     "output_type": "stream",
     "text": [
      "\u001b[1m1/1\u001b[0m \u001b[32m━━━━━━━━━━━━━━━━━━━━\u001b[0m\u001b[37m\u001b[0m \u001b[1m2s\u001b[0m 2s/step\n"
     ]
    },
    {
     "data": {
      "text/plain": [
       "array([[[0.50030744],\n",
       "        [0.5008081 ],\n",
       "        [0.50088847],\n",
       "        [0.49932057],\n",
       "        [0.5002853 ],\n",
       "        [0.5010601 ],\n",
       "        [0.50117224],\n",
       "        [0.5014316 ],\n",
       "        [0.50082225],\n",
       "        [0.49967283],\n",
       "        [0.49970722],\n",
       "        [0.5004876 ],\n",
       "        [0.5012718 ],\n",
       "        [0.50038195],\n",
       "        [0.50066084],\n",
       "        [0.5002195 ]]], dtype=float32)"
      ]
     },
     "execution_count": 40,
     "metadata": {},
     "output_type": "execute_result"
    }
   ],
   "source": [
    "yhat=siamese_model.predict([test_input,test_val])\n",
    "yhat"
   ]
  },
  {
   "cell_type": "code",
   "execution_count": 43,
   "id": "cced0109-5834-4e1f-b8e4-b00023ad5308",
   "metadata": {},
   "outputs": [],
   "source": [
    "yhat_flattened = yhat.flatten()\n",
    "yhat_binary = [1 if prediction > 0.5 else 0 for prediction in yhat_flattened]"
   ]
  },
  {
   "cell_type": "code",
   "execution_count": 44,
   "id": "b3c4afdd-f50e-4611-b6da-499b1971c8c1",
   "metadata": {},
   "outputs": [
    {
     "data": {
      "text/plain": [
       "array([1., 0., 0., 0., 0., 0., 1., 0., 0., 1., 0., 1., 0., 0., 0., 0.],\n",
       "      dtype=float32)"
      ]
     },
     "execution_count": 44,
     "metadata": {},
     "output_type": "execute_result"
    }
   ],
   "source": [
    "y_true"
   ]
  },
  {
   "cell_type": "code",
   "execution_count": 46,
   "id": "7e8e94b5-b9dd-4f41-9988-6b550b681e07",
   "metadata": {},
   "outputs": [
    {
     "data": {
      "text/plain": [
       "0.75"
      ]
     },
     "execution_count": 46,
     "metadata": {},
     "output_type": "execute_result"
    }
   ],
   "source": [
    "# Creating a metric object \n",
    "m = Recall()\n",
    "\n",
    "# Calculating the recall value \n",
    "m.update_state(y_true, yhat)\n",
    "\n",
    "# Return Recall Result\n",
    "m.result().numpy()"
   ]
  },
  {
   "cell_type": "code",
   "execution_count": 48,
   "id": "c7a368ad-5a08-4751-a70b-42e0d0d1c8ae",
   "metadata": {},
   "outputs": [
    {
     "data": {
      "text/plain": [
       "0.23076923"
      ]
     },
     "execution_count": 48,
     "metadata": {},
     "output_type": "execute_result"
    }
   ],
   "source": [
    "# Creating a metric object \n",
    "m = Precision()\n",
    "\n",
    "# Calculating the recall value \n",
    "m.update_state(y_true, yhat)\n",
    "\n",
    "# Return Recall Result\n",
    "m.result().numpy()"
   ]
  },
  {
   "cell_type": "code",
   "execution_count": 49,
   "id": "162b03c7-db5d-439e-b6c3-f26f49816a52",
   "metadata": {},
   "outputs": [
    {
     "data": {
      "image/png": "[encoded data removed]",
      "text/plain": [
       "<Figure size 1000x800 with 2 Axes>"
      ]
     },
     "metadata": {},
     "output_type": "display_data"
    }
   ],
   "source": [
    "# Set plot size \n",
    "plt.figure(figsize=(10,8))\n",
    "\n",
    "# Set first subplot\n",
    "plt.subplot(1,2,1)\n",
    "plt.imshow(test_input[0])\n",
    "\n",
    "# Set second subplot\n",
    "plt.subplot(1,2,2)\n",
    "plt.imshow(test_val[0])\n",
    "\n",
    "# Renders cleanly\n",
    "plt.show()"
   ]
  },
  {
   "cell_type": "code",
   "execution_count": 54,
   "id": "3bb3e02c-4a7a-4c3a-afe2-658e0ba4fcc1",
   "metadata": {},
   "outputs": [],
   "source": [
    "# siamese_model.save('siamesemodel.h5')\n",
    "model.save('siamesemodel.keras')"
   ]
  },
  {
   "cell_type": "code",
   "execution_count": 55,
   "id": "14ada178-e5e2-4ed5-9218-c870e1369bc0",
   "metadata": {},
   "outputs": [],
   "source": [
    "model = tf.keras.models.load_model('siamesemodel.keras', \n",
    "                                   custom_objects={'L1Dist':L1Dist, 'BinaryCrossentropy':tf.losses.BinaryCrossentropy})"
   ]
  },
  {
   "cell_type": "code",
   "execution_count": 56,
   "id": "2248f184-09e3-426c-92bd-707da0d1c48f",
   "metadata": {},
   "outputs": [
    {
     "name": "stdout",
     "output_type": "stream",
     "text": [
      "\u001b[1m1/1\u001b[0m \u001b[32m━━━━━━━━━━━━━━━━━━━━\u001b[0m\u001b[37m\u001b[0m \u001b[1m2s\u001b[0m 2s/step\n"
     ]
    },
    {
     "data": {
      "text/plain": [
       "array([[[0.50030744],\n",
       "        [0.5008081 ],\n",
       "        [0.50088847],\n",
       "        [0.49932057],\n",
       "        [0.5002853 ],\n",
       "        [0.5010601 ],\n",
       "        [0.50117224],\n",
       "        [0.5014316 ],\n",
       "        [0.50082225],\n",
       "        [0.49967283],\n",
       "        [0.49970722],\n",
       "        [0.5004876 ],\n",
       "        [0.5012718 ],\n",
       "        [0.50038195],\n",
       "        [0.50066084],\n",
       "        [0.5002195 ]]], dtype=float32)"
      ]
     },
     "execution_count": 56,
     "metadata": {},
     "output_type": "execute_result"
    }
   ],
   "source": [
    "model.predict([test_input, test_val])"
   ]
  },
  {
   "cell_type": "code",
   "execution_count": 57,
   "id": "3f06b4ce-4977-419b-81fe-4533fb821cb1",
   "metadata": {},
   "outputs": [
    {
     "data": {
      "text/html": [
       "<pre style=\"white-space:pre;overflow-x:auto;line-height:normal;font-family:Menlo,'DejaVu Sans Mono',consolas,'Courier New',monospace\"><span style=\"font-weight: bold\">Model: \"SiameseNetwork\"</span>\n",
       "</pre>\n"
      ],
      "text/plain": [
       "\u001b[1mModel: \"SiameseNetwork\"\u001b[0m\n"
      ]
     },
     "metadata": {},
     "output_type": "display_data"
    },
    {
     "data": {
      "text/html": [
       "<pre style=\"white-space:pre;overflow-x:auto;line-height:normal;font-family:Menlo,'DejaVu Sans Mono',consolas,'Courier New',monospace\">┏━━━━━━━━━━━━━━━━━━━━━━━━━━━━━━━┳━━━━━━━━━━━━━━━━━━━━━━━━━━━┳━━━━━━━━━━━━━━━━━┳━━━━━━━━━━━━━━━━━━━━━━━━━━━━┓\n",
       "┃<span style=\"font-weight: bold\"> Layer (type)                  </span>┃<span style=\"font-weight: bold\"> Output Shape              </span>┃<span style=\"font-weight: bold\">         Param # </span>┃<span style=\"font-weight: bold\"> Connected to               </span>┃\n",
       "┡━━━━━━━━━━━━━━━━━━━━━━━━━━━━━━━╇━━━━━━━━━━━━━━━━━━━━━━━━━━━╇━━━━━━━━━━━━━━━━━╇━━━━━━━━━━━━━━━━━━━━━━━━━━━━┩\n",
       "│ input_img (<span style=\"color: #0087ff; text-decoration-color: #0087ff\">InputLayer</span>)        │ (<span style=\"color: #00d7ff; text-decoration-color: #00d7ff\">None</span>, <span style=\"color: #00af00; text-decoration-color: #00af00\">100</span>, <span style=\"color: #00af00; text-decoration-color: #00af00\">100</span>, <span style=\"color: #00af00; text-decoration-color: #00af00\">3</span>)       │               <span style=\"color: #00af00; text-decoration-color: #00af00\">0</span> │ -                          │\n",
       "├───────────────────────────────┼───────────────────────────┼─────────────────┼────────────────────────────┤\n",
       "│ validation_img (<span style=\"color: #0087ff; text-decoration-color: #0087ff\">InputLayer</span>)   │ (<span style=\"color: #00d7ff; text-decoration-color: #00d7ff\">None</span>, <span style=\"color: #00af00; text-decoration-color: #00af00\">100</span>, <span style=\"color: #00af00; text-decoration-color: #00af00\">100</span>, <span style=\"color: #00af00; text-decoration-color: #00af00\">3</span>)       │               <span style=\"color: #00af00; text-decoration-color: #00af00\">0</span> │ -                          │\n",
       "├───────────────────────────────┼───────────────────────────┼─────────────────┼────────────────────────────┤\n",
       "│ embedding (<span style=\"color: #0087ff; text-decoration-color: #0087ff\">Functional</span>)        │ (<span style=\"color: #00d7ff; text-decoration-color: #00d7ff\">None</span>, <span style=\"color: #00af00; text-decoration-color: #00af00\">4096</span>)              │      <span style=\"color: #00af00; text-decoration-color: #00af00\">38,960,448</span> │ input_img[<span style=\"color: #00af00; text-decoration-color: #00af00\">0</span>][<span style=\"color: #00af00; text-decoration-color: #00af00\">0</span>],           │\n",
       "│                               │                           │                 │ validation_img[<span style=\"color: #00af00; text-decoration-color: #00af00\">0</span>][<span style=\"color: #00af00; text-decoration-color: #00af00\">0</span>]       │\n",
       "├───────────────────────────────┼───────────────────────────┼─────────────────┼────────────────────────────┤\n",
       "│ l1_dist_2 (<span style=\"color: #0087ff; text-decoration-color: #0087ff\">L1Dist</span>)            │ (<span style=\"color: #00af00; text-decoration-color: #00af00\">1</span>, <span style=\"color: #00d7ff; text-decoration-color: #00d7ff\">None</span>, <span style=\"color: #00af00; text-decoration-color: #00af00\">4096</span>)           │               <span style=\"color: #00af00; text-decoration-color: #00af00\">0</span> │ embedding[<span style=\"color: #00af00; text-decoration-color: #00af00\">0</span>][<span style=\"color: #00af00; text-decoration-color: #00af00\">0</span>],           │\n",
       "│                               │                           │                 │ embedding[<span style=\"color: #00af00; text-decoration-color: #00af00\">1</span>][<span style=\"color: #00af00; text-decoration-color: #00af00\">0</span>]            │\n",
       "├───────────────────────────────┼───────────────────────────┼─────────────────┼────────────────────────────┤\n",
       "│ dense_1 (<span style=\"color: #0087ff; text-decoration-color: #0087ff\">Dense</span>)               │ (<span style=\"color: #00af00; text-decoration-color: #00af00\">1</span>, <span style=\"color: #00d7ff; text-decoration-color: #00d7ff\">None</span>, <span style=\"color: #00af00; text-decoration-color: #00af00\">1</span>)              │           <span style=\"color: #00af00; text-decoration-color: #00af00\">4,097</span> │ l1_dist_2[<span style=\"color: #00af00; text-decoration-color: #00af00\">0</span>][<span style=\"color: #00af00; text-decoration-color: #00af00\">0</span>]            │\n",
       "└───────────────────────────────┴───────────────────────────┴─────────────────┴────────────────────────────┘\n",
       "</pre>\n"
      ],
      "text/plain": [
       "┏━━━━━━━━━━━━━━━━━━━━━━━━━━━━━━━┳━━━━━━━━━━━━━━━━━━━━━━━━━━━┳━━━━━━━━━━━━━━━━━┳━━━━━━━━━━━━━━━━━━━━━━━━━━━━┓\n",
       "┃\u001b[1m \u001b[0m\u001b[1mLayer (type)                 \u001b[0m\u001b[1m \u001b[0m┃\u001b[1m \u001b[0m\u001b[1mOutput Shape             \u001b[0m\u001b[1m \u001b[0m┃\u001b[1m \u001b[0m\u001b[1m        Param #\u001b[0m\u001b[1m \u001b[0m┃\u001b[1m \u001b[0m\u001b[1mConnected to              \u001b[0m\u001b[1m \u001b[0m┃\n",
       "┡━━━━━━━━━━━━━━━━━━━━━━━━━━━━━━━╇━━━━━━━━━━━━━━━━━━━━━━━━━━━╇━━━━━━━━━━━━━━━━━╇━━━━━━━━━━━━━━━━━━━━━━━━━━━━┩\n",
       "│ input_img (\u001b[38;5;33mInputLayer\u001b[0m)        │ (\u001b[38;5;45mNone\u001b[0m, \u001b[38;5;34m100\u001b[0m, \u001b[38;5;34m100\u001b[0m, \u001b[38;5;34m3\u001b[0m)       │               \u001b[38;5;34m0\u001b[0m │ -                          │\n",
       "├───────────────────────────────┼───────────────────────────┼─────────────────┼────────────────────────────┤\n",
       "│ validation_img (\u001b[38;5;33mInputLayer\u001b[0m)   │ (\u001b[38;5;45mNone\u001b[0m, \u001b[38;5;34m100\u001b[0m, \u001b[38;5;34m100\u001b[0m, \u001b[38;5;34m3\u001b[0m)       │               \u001b[38;5;34m0\u001b[0m │ -                          │\n",
       "├───────────────────────────────┼───────────────────────────┼─────────────────┼────────────────────────────┤\n",
       "│ embedding (\u001b[38;5;33mFunctional\u001b[0m)        │ (\u001b[38;5;45mNone\u001b[0m, \u001b[38;5;34m4096\u001b[0m)              │      \u001b[38;5;34m38,960,448\u001b[0m │ input_img[\u001b[38;5;34m0\u001b[0m][\u001b[38;5;34m0\u001b[0m],           │\n",
       "│                               │                           │                 │ validation_img[\u001b[38;5;34m0\u001b[0m][\u001b[38;5;34m0\u001b[0m]       │\n",
       "├───────────────────────────────┼───────────────────────────┼─────────────────┼────────────────────────────┤\n",
       "│ l1_dist_2 (\u001b[38;5;33mL1Dist\u001b[0m)            │ (\u001b[38;5;34m1\u001b[0m, \u001b[38;5;45mNone\u001b[0m, \u001b[38;5;34m4096\u001b[0m)           │               \u001b[38;5;34m0\u001b[0m │ embedding[\u001b[38;5;34m0\u001b[0m][\u001b[38;5;34m0\u001b[0m],           │\n",
       "│                               │                           │                 │ embedding[\u001b[38;5;34m1\u001b[0m][\u001b[38;5;34m0\u001b[0m]            │\n",
       "├───────────────────────────────┼───────────────────────────┼─────────────────┼────────────────────────────┤\n",
       "│ dense_1 (\u001b[38;5;33mDense\u001b[0m)               │ (\u001b[38;5;34m1\u001b[0m, \u001b[38;5;45mNone\u001b[0m, \u001b[38;5;34m1\u001b[0m)              │           \u001b[38;5;34m4,097\u001b[0m │ l1_dist_2[\u001b[38;5;34m0\u001b[0m][\u001b[38;5;34m0\u001b[0m]            │\n",
       "└───────────────────────────────┴───────────────────────────┴─────────────────┴────────────────────────────┘\n"
      ]
     },
     "metadata": {},
     "output_type": "display_data"
    },
    {
     "data": {
      "text/html": [
       "<pre style=\"white-space:pre;overflow-x:auto;line-height:normal;font-family:Menlo,'DejaVu Sans Mono',consolas,'Courier New',monospace\"><span style=\"font-weight: bold\"> Total params: </span><span style=\"color: #00af00; text-decoration-color: #00af00\">38,964,545</span> (148.64 MB)\n",
       "</pre>\n"
      ],
      "text/plain": [
       "\u001b[1m Total params: \u001b[0m\u001b[38;5;34m38,964,545\u001b[0m (148.64 MB)\n"
      ]
     },
     "metadata": {},
     "output_type": "display_data"
    },
    {
     "data": {
      "text/html": [
       "<pre style=\"white-space:pre;overflow-x:auto;line-height:normal;font-family:Menlo,'DejaVu Sans Mono',consolas,'Courier New',monospace\"><span style=\"font-weight: bold\"> Trainable params: </span><span style=\"color: #00af00; text-decoration-color: #00af00\">38,964,545</span> (148.64 MB)\n",
       "</pre>\n"
      ],
      "text/plain": [
       "\u001b[1m Trainable params: \u001b[0m\u001b[38;5;34m38,964,545\u001b[0m (148.64 MB)\n"
      ]
     },
     "metadata": {},
     "output_type": "display_data"
    },
    {
     "data": {
      "text/html": [
       "<pre style=\"white-space:pre;overflow-x:auto;line-height:normal;font-family:Menlo,'DejaVu Sans Mono',consolas,'Courier New',monospace\"><span style=\"font-weight: bold\"> Non-trainable params: </span><span style=\"color: #00af00; text-decoration-color: #00af00\">0</span> (0.00 B)\n",
       "</pre>\n"
      ],
      "text/plain": [
       "\u001b[1m Non-trainable params: \u001b[0m\u001b[38;5;34m0\u001b[0m (0.00 B)\n"
      ]
     },
     "metadata": {},
     "output_type": "display_data"
    }
   ],
   "source": [
    "model.summary()"
   ]
  },
  {
   "cell_type": "code",
   "execution_count": 80,
   "id": "20e07aac-3096-42ce-a88c-16611f5d03c9",
   "metadata": {},
   "outputs": [
    {
     "data": {
      "text/plain": [
       "['00b8fcd1-4f49-11ef-8830-387a0e176249.jpg',\n",
       " '00e3e5a4-4f49-11ef-9e23-387a0e176249.jpg',\n",
       " '01b6bbc6-4f49-11ef-9b7b-387a0e176249.jpg',\n",
       " '01ccbad8-4f49-11ef-a041-387a0e176249.jpg',\n",
       " '01e1c16d-4f49-11ef-b04f-387a0e176249.jpg',\n",
       " '03f47da9-4f49-11ef-8ba3-387a0e176249.jpg',\n",
       " '04b06054-4f49-11ef-90eb-387a0e176249.jpg',\n",
       " '04feb02a-4f49-11ef-afff-387a0e176249.jpg',\n",
       " '05e8a4e3-4f49-11ef-a9d3-387a0e176249.jpg',\n",
       " '06b6121a-4f49-11ef-9e6e-387a0e176249.jpg',\n",
       " '0a3ab9f1-4f49-11ef-95fb-387a0e176249.jpg',\n",
       " '0abd1919-4f49-11ef-9746-387a0e176249.jpg',\n",
       " '0b0e2959-4f49-11ef-b3ef-387a0e176249.jpg',\n",
       " '0b472440-4f49-11ef-a2aa-387a0e176249.jpg',\n",
       " '0b7d3160-4f49-11ef-a75e-387a0e176249.jpg',\n",
       " '0bb422e0-4f49-11ef-af0e-387a0e176249.jpg',\n",
       " '0c36a2fe-4f49-11ef-b15d-387a0e176249.jpg',\n",
       " '0cbabee7-4f49-11ef-b9bf-387a0e176249.jpg',\n",
       " '0d0af787-4f49-11ef-9bc5-387a0e176249.jpg',\n",
       " '0d5208ef-4f49-11ef-bc4a-387a0e176249.jpg',\n",
       " '0d9ff559-4f49-11ef-aa9d-387a0e176249.jpg',\n",
       " '0dc4e8b0-4f49-11ef-97b6-387a0e176249.jpg',\n",
       " '0e612afe-4f49-11ef-82af-387a0e176249.jpg',\n",
       " '0ee4923f-4f49-11ef-aad0-387a0e176249.jpg',\n",
       " '0fb5c72c-4f49-11ef-9e3d-387a0e176249.jpg',\n",
       " '3a7909fe-4f48-11ef-98b0-387a0e176249.jpg',\n",
       " '3afcc7cc-4f48-11ef-ab37-387a0e176249.jpg',\n",
       " '3d1d6e47-4f48-11ef-8f24-387a0e176249.jpg',\n",
       " '3dcad519-4f48-11ef-9957-387a0e176249.jpg',\n",
       " '3e7cd8a0-4f48-11ef-9fc4-387a0e176249.jpg',\n",
       " '3ec89db3-4f48-11ef-b74b-387a0e176249.jpg',\n",
       " '4c952576-4f48-11ef-b7e0-387a0e176249.jpg',\n",
       " '4cde95b8-4f48-11ef-82cf-387a0e176249.jpg',\n",
       " '4dfe7fea-4f48-11ef-aa8c-387a0e176249.jpg',\n",
       " '4e195cb1-4f48-11ef-b304-387a0e176249.jpg',\n",
       " '4ed91ea5-4f48-11ef-8cc1-387a0e176249.jpg',\n",
       " '4f82bfb8-4f48-11ef-9b2f-387a0e176249.jpg',\n",
       " '5cba650b-4f48-11ef-8947-387a0e176249.jpg',\n",
       " '5d3e060d-4f48-11ef-9131-387a0e176249.jpg',\n",
       " '5d9640a4-4f48-11ef-8fab-387a0e176249.jpg',\n",
       " '5e152366-4f48-11ef-b3ea-387a0e176249.jpg',\n",
       " '5ef4cb1c-4f48-11ef-bf3b-387a0e176249.jpg',\n",
       " '5f10fd7f-4f48-11ef-9d41-387a0e176249.jpg',\n",
       " '5fc54d3d-4f48-11ef-bfe0-387a0e176249.jpg',\n",
       " '6a063c54-4f48-11ef-84ba-387a0e176249.jpg']"
      ]
     },
     "execution_count": 80,
     "metadata": {},
     "output_type": "execute_result"
    }
   ],
   "source": [
    "os.listdir(os.path.join('application_data', 'verification_images'))"
   ]
  },
  {
   "cell_type": "code",
   "execution_count": 81,
   "id": "e51e57d4-d34a-4c72-abb9-74025d9b831d",
   "metadata": {},
   "outputs": [
    {
     "data": {
      "text/plain": [
       "'application_data\\\\input_image\\\\input_image.jpg'"
      ]
     },
     "execution_count": 81,
     "metadata": {},
     "output_type": "execute_result"
    }
   ],
   "source": [
    "os.path.join('application_data', 'input_image', 'input_image.jpg')"
   ]
  },
  {
   "cell_type": "code",
   "execution_count": 82,
   "id": "e0c70310-0580-4141-9d9b-0580296ec2f4",
   "metadata": {},
   "outputs": [
    {
     "name": "stdout",
     "output_type": "stream",
     "text": [
      "application_data\\verification_images\\00b8fcd1-4f49-11ef-8830-387a0e176249.jpg\n",
      "application_data\\verification_images\\00e3e5a4-4f49-11ef-9e23-387a0e176249.jpg\n",
      "application_data\\verification_images\\01b6bbc6-4f49-11ef-9b7b-387a0e176249.jpg\n",
      "application_data\\verification_images\\01ccbad8-4f49-11ef-a041-387a0e176249.jpg\n",
      "application_data\\verification_images\\01e1c16d-4f49-11ef-b04f-387a0e176249.jpg\n",
      "application_data\\verification_images\\03f47da9-4f49-11ef-8ba3-387a0e176249.jpg\n",
      "application_data\\verification_images\\04b06054-4f49-11ef-90eb-387a0e176249.jpg\n",
      "application_data\\verification_images\\04feb02a-4f49-11ef-afff-387a0e176249.jpg\n",
      "application_data\\verification_images\\05e8a4e3-4f49-11ef-a9d3-387a0e176249.jpg\n",
      "application_data\\verification_images\\06b6121a-4f49-11ef-9e6e-387a0e176249.jpg\n",
      "application_data\\verification_images\\0a3ab9f1-4f49-11ef-95fb-387a0e176249.jpg\n",
      "application_data\\verification_images\\0abd1919-4f49-11ef-9746-387a0e176249.jpg\n",
      "application_data\\verification_images\\0b0e2959-4f49-11ef-b3ef-387a0e176249.jpg\n",
      "application_data\\verification_images\\0b472440-4f49-11ef-a2aa-387a0e176249.jpg\n",
      "application_data\\verification_images\\0b7d3160-4f49-11ef-a75e-387a0e176249.jpg\n",
      "application_data\\verification_images\\0bb422e0-4f49-11ef-af0e-387a0e176249.jpg\n",
      "application_data\\verification_images\\0c36a2fe-4f49-11ef-b15d-387a0e176249.jpg\n",
      "application_data\\verification_images\\0cbabee7-4f49-11ef-b9bf-387a0e176249.jpg\n",
      "application_data\\verification_images\\0d0af787-4f49-11ef-9bc5-387a0e176249.jpg\n",
      "application_data\\verification_images\\0d5208ef-4f49-11ef-bc4a-387a0e176249.jpg\n",
      "application_data\\verification_images\\0d9ff559-4f49-11ef-aa9d-387a0e176249.jpg\n",
      "application_data\\verification_images\\0dc4e8b0-4f49-11ef-97b6-387a0e176249.jpg\n",
      "application_data\\verification_images\\0e612afe-4f49-11ef-82af-387a0e176249.jpg\n",
      "application_data\\verification_images\\0ee4923f-4f49-11ef-aad0-387a0e176249.jpg\n",
      "application_data\\verification_images\\0fb5c72c-4f49-11ef-9e3d-387a0e176249.jpg\n",
      "application_data\\verification_images\\3a7909fe-4f48-11ef-98b0-387a0e176249.jpg\n",
      "application_data\\verification_images\\3afcc7cc-4f48-11ef-ab37-387a0e176249.jpg\n",
      "application_data\\verification_images\\3d1d6e47-4f48-11ef-8f24-387a0e176249.jpg\n",
      "application_data\\verification_images\\3dcad519-4f48-11ef-9957-387a0e176249.jpg\n",
      "application_data\\verification_images\\3e7cd8a0-4f48-11ef-9fc4-387a0e176249.jpg\n",
      "application_data\\verification_images\\3ec89db3-4f48-11ef-b74b-387a0e176249.jpg\n",
      "application_data\\verification_images\\4c952576-4f48-11ef-b7e0-387a0e176249.jpg\n",
      "application_data\\verification_images\\4cde95b8-4f48-11ef-82cf-387a0e176249.jpg\n",
      "application_data\\verification_images\\4dfe7fea-4f48-11ef-aa8c-387a0e176249.jpg\n",
      "application_data\\verification_images\\4e195cb1-4f48-11ef-b304-387a0e176249.jpg\n",
      "application_data\\verification_images\\4ed91ea5-4f48-11ef-8cc1-387a0e176249.jpg\n",
      "application_data\\verification_images\\4f82bfb8-4f48-11ef-9b2f-387a0e176249.jpg\n",
      "application_data\\verification_images\\5cba650b-4f48-11ef-8947-387a0e176249.jpg\n",
      "application_data\\verification_images\\5d3e060d-4f48-11ef-9131-387a0e176249.jpg\n",
      "application_data\\verification_images\\5d9640a4-4f48-11ef-8fab-387a0e176249.jpg\n",
      "application_data\\verification_images\\5e152366-4f48-11ef-b3ea-387a0e176249.jpg\n",
      "application_data\\verification_images\\5ef4cb1c-4f48-11ef-bf3b-387a0e176249.jpg\n",
      "application_data\\verification_images\\5f10fd7f-4f48-11ef-9d41-387a0e176249.jpg\n",
      "application_data\\verification_images\\5fc54d3d-4f48-11ef-bfe0-387a0e176249.jpg\n",
      "application_data\\verification_images\\6a063c54-4f48-11ef-84ba-387a0e176249.jpg\n"
     ]
    }
   ],
   "source": [
    "for image in os.listdir(os.path.join('application_data', 'verification_images')):\n",
    "    validation_img = os.path.join('application_data', 'verification_images', image)\n",
    "    print(validation_img)"
   ]
  },
  {
   "cell_type": "code",
   "execution_count": 83,
   "id": "7eefe2a6-454f-4a4f-9581-6bcddef06437",
   "metadata": {},
   "outputs": [],
   "source": [
    "def verify(model, detection_threshold, verification_threshold):\n",
    "    # Build results array\n",
    "    results = []\n",
    "    for image in os.listdir(os.path.join('application_data', 'verification_images')):\n",
    "        input_img = preprocess(os.path.join('application_data', 'input_image', 'input_image.jpg'))\n",
    "        validation_img = preprocess(os.path.join('application_data', 'verification_images', image))\n",
    "        \n",
    "        # Make Predictions \n",
    "        result = model.predict(list(np.expand_dims([input_img, validation_img], axis=1)))\n",
    "        results.append(result)\n",
    "    \n",
    "    # Detection Threshold: Metric above which a prediciton is considered positive \n",
    "    detection = np.sum(np.array(results) > detection_threshold)\n",
    "    \n",
    "    # Verification Threshold: Proportion of positive predictions / total positive samples \n",
    "    verification = detection / len(os.listdir(os.path.join('application_data', 'verification_images'))) \n",
    "    verified = verification > verification_threshold\n",
    "    \n",
    "    return results, verified"
   ]
  },
  {
   "cell_type": "code",
   "execution_count": 86,
   "id": "d0157300-bf00-40c9-a14f-9ae36df28ff8",
   "metadata": {},
   "outputs": [],
   "source": [
    "cap = cv2.VideoCapture(0)\n",
    "while cap.isOpened():\n",
    "    ret, frame = cap.read()\n",
    "    frame = frame[120:120+250,200:200+250, :]\n",
    "    \n",
    "    cv2.imshow('Verification', frame)\n",
    "    \n",
    "    # Verification trigger\n",
    "    if cv2.waitKey(10) & 0xFF == ord('v'):\n",
    "        # Save input image to application_data/input_image folder \n",
    "        cv2.imwrite(os.path.join('application_data', 'input_image', 'input_image.jpg'), frame)\n",
    "        # Run verification\n",
    "        results, verified = verify(model, 0.9, 0.6)\n",
    "        print(verified)\n",
    "    \n",
    "    if cv2.waitKey(10) & 0xFF == ord('q'):\n",
    "        break\n",
    "cap.release()\n",
    "cv2.destroyAllWindows()"
   ]
  },
  {
   "cell_type": "code",
   "execution_count": null,
   "id": "bd53cb01-0de1-41c8-abcf-f1013a7a38aa",
   "metadata": {},
   "outputs": [],
   "source": [
    "np.sum(np.squeeze(results) > 0.9)"
   ]
  }
 ],
 "metadata": {
  "kernelspec": {
   "display_name": "Python 3 (ipykernel)",
   "language": "python",
   "name": "python3"
  },
  "language_info": {
   "codemirror_mode": {
    "name": "ipython",
    "version": 3
   },
   "file_extension": ".py",
   "mimetype": "text/x-python",
   "name": "python",
   "nbconvert_exporter": "python",
   "pygments_lexer": "ipython3",
   "version": "3.12.3"
  }
 },
 "nbformat": 4,
 "nbformat_minor": 5
}
